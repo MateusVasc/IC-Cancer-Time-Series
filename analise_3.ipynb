{
 "cells": [
  {
   "cell_type": "code",
   "execution_count": 1,
   "metadata": {},
   "outputs": [],
   "source": [
    "import pandas as pd"
   ]
  },
  {
   "cell_type": "code",
   "execution_count": 3,
   "metadata": {},
   "outputs": [
    {
     "name": "stderr",
     "output_type": "stream",
     "text": [
      "C:\\Users\\micha\\AppData\\Local\\Temp\\ipykernel_17212\\3616582832.py:2: DtypeWarning: Columns (3,6,7,8,9,10,25,27,28,29,30,31,32,36) have mixed types. Specify dtype option on import or set low_memory=False.\n",
      "  df = pd.read_csv(path, index_col = \"Código do Paciente\", sep=';')\n"
     ]
    }
   ],
   "source": [
    "path = r\"C:\\Users\\micha\\Desktop\\IC\\NAO_IDENT_null_1988-2020_2013_2020_102142.csv\"\n",
    "df = pd.read_csv(path, index_col = \"Código do Paciente\", sep=';')"
   ]
  },
  {
   "cell_type": "code",
   "execution_count": 4,
   "metadata": {},
   "outputs": [
    {
     "name": "stdout",
     "output_type": "stream",
     "text": [
      "<class 'pandas.core.frame.DataFrame'>\n",
      "Index: 560895 entries, nan to 745330.0\n",
      "Data columns (total 25 columns):\n",
      " #   Column                   Non-Null Count   Dtype  \n",
      "---  ------                   --------------   -----  \n",
      " 0   Nome do RCBP             560895 non-null  object \n",
      " 1   Sexo                     560895 non-null  object \n",
      " 2   Data de Nascimento       441899 non-null  object \n",
      " 3   Idade                    546559 non-null  float64\n",
      " 4   Raca/Cor                 560895 non-null  object \n",
      " 5   Nacionalidade            441524 non-null  object \n",
      " 6   Naturalidade Estado      442146 non-null  object \n",
      " 7   Naturalidade             295041 non-null  object \n",
      " 8   Grau de Instrução        446777 non-null  object \n",
      " 9   Estado Civil             442044 non-null  object \n",
      " 10  Código Profissão         514845 non-null  float64\n",
      " 11  Nome Profissão           514845 non-null  object \n",
      " 12  Estado Endereço          560812 non-null  object \n",
      " 13  Cidade Endereço          560895 non-null  object \n",
      " 14  Descrição da Topografia  560895 non-null  object \n",
      " 15  Código da Topografia     560895 non-null  object \n",
      " 16  Descrição da Morfologia  560895 non-null  object \n",
      " 17  Código da Morfologia     560895 non-null  int64  \n",
      " 18  Descrição da Doenca      560895 non-null  object \n",
      " 19  Código da Doenca         560895 non-null  object \n",
      " 20  Indicador de Caso Raro   447863 non-null  object \n",
      " 21  Meio de Diagnostico      560895 non-null  object \n",
      " 22  Extensão                 453120 non-null  object \n",
      " 23  Data de Último Contato   232343 non-null  object \n",
      " 24  Data de Diagnostico      560895 non-null  object \n",
      "dtypes: float64(2), int64(1), object(22)\n",
      "memory usage: 111.3+ MB\n"
     ]
    }
   ],
   "source": [
    "for column in df.columns:\n",
    "    if df[column].isnull().mean()*100 > 60:\n",
    "        df.drop(column, axis=1, inplace=True)\n",
    "df.info()"
   ]
  }
 ],
 "metadata": {
  "kernelspec": {
   "display_name": "Python 3",
   "language": "python",
   "name": "python3"
  },
  "language_info": {
   "codemirror_mode": {
    "name": "ipython",
    "version": 3
   },
   "file_extension": ".py",
   "mimetype": "text/x-python",
   "name": "python",
   "nbconvert_exporter": "python",
   "pygments_lexer": "ipython3",
   "version": "3.11.5"
  }
 },
 "nbformat": 4,
 "nbformat_minor": 2
}
