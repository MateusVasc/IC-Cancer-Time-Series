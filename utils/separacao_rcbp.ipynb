{
 "cells": [
  {
   "cell_type": "code",
   "execution_count": 5,
   "metadata": {},
   "outputs": [],
   "source": [
    "import os\n",
    "import pandas as pd\n",
    "import pyarrow as pa\n",
    "import pyarrow.parquet as pq\n",
    "import numpy as np"
   ]
  },
  {
   "cell_type": "code",
   "execution_count": 6,
   "metadata": {},
   "outputs": [],
   "source": [
    "path = '../data/parquet/dataSetFinal.parquet'\n",
    "\n",
    "df = pd.read_parquet(path)"
   ]
  },
  {
   "cell_type": "code",
   "execution_count": 7,
   "metadata": {},
   "outputs": [
    {
     "data": {
      "text/plain": [
       "Index(['Nome do RCBP', 'Sexo', 'Data de Nascimento', 'Idade', 'Raca/Cor',\n",
       "       'Nacionalidade', 'Naturalidade Estado', 'Naturalidade',\n",
       "       'Grau de Instrução', 'Estado Civil', 'Código Profissão',\n",
       "       'Nome Profissão', 'Estado Endereço', 'Cidade Endereço',\n",
       "       'Descrição da Topografia', 'Código da Topografia',\n",
       "       'Descrição da Morfologia', 'Código da Morfologia',\n",
       "       'Descrição da Doenca', 'Código da Doenca',\n",
       "       'Descrição da Doenca Infantil', 'Código da Doenca Infantil',\n",
       "       'Descrição da Doenca Adulto Jovem', 'Código da Doenca Adulto Jovem',\n",
       "       'Indicador de Caso Raro', 'Meio de Diagnostico', 'Extensão',\n",
       "       'Lateralidade', 'Estadiamento', 'TNM', 'Status Vital', 'Tipo do Obito',\n",
       "       'Data do Óbito', 'Data de Último Contato', 'Data de Diagnostico',\n",
       "       'Metástase à distância'],\n",
       "      dtype='object')"
      ]
     },
     "execution_count": 7,
     "metadata": {},
     "output_type": "execute_result"
    }
   ],
   "source": [
    "columns_to_drop = ['Código do Paciente', 'Unnamed: 37']\n",
    "\n",
    "df = df.drop(columns_to_drop, axis=1)\n",
    "df.columns"
   ]
  },
  {
   "cell_type": "code",
   "execution_count": 9,
   "metadata": {},
   "outputs": [
    {
     "data": {
      "text/plain": [
       "33"
      ]
     },
     "execution_count": 9,
     "metadata": {},
     "output_type": "execute_result"
    }
   ],
   "source": [
    "df['Nome do RCBP'].nunique()"
   ]
  },
  {
   "cell_type": "code",
   "execution_count": 8,
   "metadata": {},
   "outputs": [],
   "source": [
    "output_dir = '../data/parquet/rcbp'\n",
    "\n",
    "if not os.path.exists(output_dir):\n",
    "    os.makedirs(output_dir)\n",
    "\n",
    "for value in df['Nome do RCBP'].unique():\n",
    "    sub_df = df[df['Nome do RCBP'] == value]\n",
    "    \n",
    "    file_name = f'{value}.parquet'\n",
    "    file_path = os.path.join(output_dir, file_name)\n",
    "    table = pa.Table.from_pandas(sub_df)\n",
    "    pq.write_table(table, file_path)"
   ]
  }
 ],
 "metadata": {
  "kernelspec": {
   "display_name": "Python 3",
   "language": "python",
   "name": "python3"
  },
  "language_info": {
   "codemirror_mode": {
    "name": "ipython",
    "version": 3
   },
   "file_extension": ".py",
   "mimetype": "text/x-python",
   "name": "python",
   "nbconvert_exporter": "python",
   "pygments_lexer": "ipython3",
   "version": "3.10.5"
  }
 },
 "nbformat": 4,
 "nbformat_minor": 2
}
