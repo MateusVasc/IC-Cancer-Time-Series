{
 "cells": [
  {
   "cell_type": "code",
   "execution_count": 1,
   "metadata": {},
   "outputs": [],
   "source": [
    "import pandas as pd"
   ]
  },
  {
   "cell_type": "code",
   "execution_count": 5,
   "metadata": {},
   "outputs": [],
   "source": [
    "pd.set_option('display.max_columns', None)\n",
    "pd.set_option('display.max_rows', None)"
   ]
  },
  {
   "cell_type": "code",
   "execution_count": 110,
   "metadata": {},
   "outputs": [],
   "source": [
    "path = \"../data/parquet/dataSetFinalTratadoTop5Diseases.parquet\"\n",
    "\n",
    "df = pd.read_parquet(path)"
   ]
  },
  {
   "cell_type": "code",
   "execution_count": 32,
   "metadata": {},
   "outputs": [
    {
     "data": {
      "text/plain": [
       "(2273105, 38)"
      ]
     },
     "execution_count": 32,
     "metadata": {},
     "output_type": "execute_result"
    }
   ],
   "source": [
    "df.shape"
   ]
  },
  {
   "cell_type": "code",
   "execution_count": 38,
   "metadata": {},
   "outputs": [
    {
     "data": {
      "text/html": [
       "<div>\n",
       "<style scoped>\n",
       "    .dataframe tbody tr th:only-of-type {\n",
       "        vertical-align: middle;\n",
       "    }\n",
       "\n",
       "    .dataframe tbody tr th {\n",
       "        vertical-align: top;\n",
       "    }\n",
       "\n",
       "    .dataframe thead th {\n",
       "        text-align: right;\n",
       "    }\n",
       "</style>\n",
       "<table border=\"1\" class=\"dataframe\">\n",
       "  <thead>\n",
       "    <tr style=\"text-align: right;\">\n",
       "      <th></th>\n",
       "      <th>Nome do RCBP</th>\n",
       "      <th>Sexo</th>\n",
       "      <th>Data de Nascimento</th>\n",
       "      <th>Idade</th>\n",
       "      <th>Raca/Cor</th>\n",
       "      <th>Nacionalidade</th>\n",
       "      <th>Naturalidade Estado</th>\n",
       "      <th>Naturalidade</th>\n",
       "      <th>Grau de Instrução</th>\n",
       "      <th>Estado Civil</th>\n",
       "      <th>Código Profissão</th>\n",
       "      <th>Nome Profissão</th>\n",
       "      <th>Estado Endereço</th>\n",
       "      <th>Cidade Endereço</th>\n",
       "      <th>Descrição da Topografia</th>\n",
       "      <th>Código da Topografia</th>\n",
       "      <th>Descrição da Morfologia</th>\n",
       "      <th>Código da Morfologia</th>\n",
       "      <th>Descrição da Doenca</th>\n",
       "      <th>Código da Doenca</th>\n",
       "      <th>Descrição da Doenca Infantil</th>\n",
       "      <th>Código da Doenca Infantil</th>\n",
       "      <th>Descrição da Doenca Adulto Jovem</th>\n",
       "      <th>Código da Doenca Adulto Jovem</th>\n",
       "      <th>Indicador de Caso Raro</th>\n",
       "      <th>Meio de Diagnostico</th>\n",
       "      <th>Extensão</th>\n",
       "      <th>Lateralidade</th>\n",
       "      <th>Estadiamento</th>\n",
       "      <th>TNM</th>\n",
       "      <th>Status Vital</th>\n",
       "      <th>Tipo do Obito</th>\n",
       "      <th>Data do Óbito</th>\n",
       "      <th>Data de Último Contato</th>\n",
       "      <th>Data de Diagnostico</th>\n",
       "      <th>Metástase à distância</th>\n",
       "      <th>Regiao</th>\n",
       "      <th>categoria_doenca</th>\n",
       "    </tr>\n",
       "  </thead>\n",
       "  <tbody>\n",
       "    <tr>\n",
       "      <th>0</th>\n",
       "      <td>RCBP CAMPINAS-UNICAMP</td>\n",
       "      <td>MASCULINO</td>\n",
       "      <td>16/03/1975</td>\n",
       "      <td>30</td>\n",
       "      <td>BRANCO</td>\n",
       "      <td>BRASIL</td>\n",
       "      <td>SÃO PAULO</td>\n",
       "      <td>None</td>\n",
       "      <td>SEM INFORMAÇÃO</td>\n",
       "      <td>CASADO</td>\n",
       "      <td>516.0</td>\n",
       "      <td>TRABALHADORES NOS SERVIÇOS DE EMBELEZAMENTO E ...</td>\n",
       "      <td>SÃO PAULO</td>\n",
       "      <td>CAMPINAS</td>\n",
       "      <td>RETO, SOE</td>\n",
       "      <td>C209</td>\n",
       "      <td>NEOPLASIA MALIGNA</td>\n",
       "      <td>80003.0</td>\n",
       "      <td>RETO</td>\n",
       "      <td>C20</td>\n",
       "      <td>None</td>\n",
       "      <td>None</td>\n",
       "      <td>None</td>\n",
       "      <td>None</td>\n",
       "      <td>False</td>\n",
       "      <td>SDO</td>\n",
       "      <td>METÁSTASE</td>\n",
       "      <td>SEM INFORMAÇÃO</td>\n",
       "      <td>99 - SEM INFORMAÇÃO</td>\n",
       "      <td>999</td>\n",
       "      <td>MORTO</td>\n",
       "      <td>CÂNCER</td>\n",
       "      <td>2005-10-07</td>\n",
       "      <td>2005-10-07</td>\n",
       "      <td>2005-10-07</td>\n",
       "      <td>None</td>\n",
       "      <td>SUDESTE</td>\n",
       "      <td>Outros</td>\n",
       "    </tr>\n",
       "    <tr>\n",
       "      <th>1</th>\n",
       "      <td>RCBP CAMPINAS-UNICAMP</td>\n",
       "      <td>FEMININO</td>\n",
       "      <td>24/05/1950</td>\n",
       "      <td>53</td>\n",
       "      <td>SEM INFORMAÇÃO</td>\n",
       "      <td>Não informado</td>\n",
       "      <td>Não informado</td>\n",
       "      <td>Não Informado</td>\n",
       "      <td>SEM INFORMAÇÃO</td>\n",
       "      <td>SEM INFORMAÇÃO</td>\n",
       "      <td>0.0</td>\n",
       "      <td>SEM INFORMAÇÃO\\t</td>\n",
       "      <td>SÃO PAULO</td>\n",
       "      <td>CAMPINAS</td>\n",
       "      <td>COLON DESCENDENTE</td>\n",
       "      <td>C186</td>\n",
       "      <td>ADENOCARCINOMA TUBULAR</td>\n",
       "      <td>82113.0</td>\n",
       "      <td>COLON DESCENDENTE</td>\n",
       "      <td>C186</td>\n",
       "      <td>None</td>\n",
       "      <td>None</td>\n",
       "      <td>None</td>\n",
       "      <td>None</td>\n",
       "      <td>False</td>\n",
       "      <td>HISTOLOGIA DO TUMOR PRIMÁRIO</td>\n",
       "      <td>SEM INFORMAÇÃO</td>\n",
       "      <td>SEM INFORMAÇÃO</td>\n",
       "      <td>99</td>\n",
       "      <td>999</td>\n",
       "      <td>MORTO</td>\n",
       "      <td>SEM INFORMAÇÃO</td>\n",
       "      <td>2007-01-30</td>\n",
       "      <td>2007-01-30</td>\n",
       "      <td>2003-07-18</td>\n",
       "      <td>None</td>\n",
       "      <td>SUDESTE</td>\n",
       "      <td>Outros</td>\n",
       "    </tr>\n",
       "    <tr>\n",
       "      <th>2</th>\n",
       "      <td>RCBP CAMPINAS-UNICAMP</td>\n",
       "      <td>FEMININO</td>\n",
       "      <td>02/09/1951</td>\n",
       "      <td>51</td>\n",
       "      <td>PARDA</td>\n",
       "      <td>BRASIL</td>\n",
       "      <td>SÃO PAULO</td>\n",
       "      <td>None</td>\n",
       "      <td>SEM INFORMAÇÃO</td>\n",
       "      <td>SOLTEIRO</td>\n",
       "      <td>0.0</td>\n",
       "      <td>SEM INFORMAÇÃO\\t</td>\n",
       "      <td>SÃO PAULO</td>\n",
       "      <td>CAMPINAS</td>\n",
       "      <td>MAMA , SOE</td>\n",
       "      <td>C509</td>\n",
       "      <td>CARCINOMA DUCTAL INFILTRANTE</td>\n",
       "      <td>85003.0</td>\n",
       "      <td>MAMA , SOE</td>\n",
       "      <td>C509</td>\n",
       "      <td>None</td>\n",
       "      <td>None</td>\n",
       "      <td>None</td>\n",
       "      <td>None</td>\n",
       "      <td>False</td>\n",
       "      <td>HISTOLOGIA DO TUMOR PRIMÁRIO</td>\n",
       "      <td>SEM INFORMAÇÃO</td>\n",
       "      <td>SEM INFORMAÇÃO</td>\n",
       "      <td>99</td>\n",
       "      <td>999</td>\n",
       "      <td>MORTO</td>\n",
       "      <td>CÂNCER</td>\n",
       "      <td>2005-07-03</td>\n",
       "      <td>2005-07-03</td>\n",
       "      <td>2003-05-16</td>\n",
       "      <td>None</td>\n",
       "      <td>SUDESTE</td>\n",
       "      <td>Câncer de Mama</td>\n",
       "    </tr>\n",
       "    <tr>\n",
       "      <th>3</th>\n",
       "      <td>RCBP CAMPINAS-UNICAMP</td>\n",
       "      <td>FEMININO</td>\n",
       "      <td>21/11/1929</td>\n",
       "      <td>73</td>\n",
       "      <td>SEM INFORMAÇÃO</td>\n",
       "      <td>Não informado</td>\n",
       "      <td>Não informado</td>\n",
       "      <td>Não Informado</td>\n",
       "      <td>SEM INFORMAÇÃO</td>\n",
       "      <td>SEM INFORMAÇÃO</td>\n",
       "      <td>0.0</td>\n",
       "      <td>SEM INFORMAÇÃO\\t</td>\n",
       "      <td>SÃO PAULO</td>\n",
       "      <td>CAMPINAS</td>\n",
       "      <td>PELE DO MEMBRO SUPERIOR E DO OMBRO</td>\n",
       "      <td>C446</td>\n",
       "      <td>CARCINOMA DE CELULAS ESCAMOSAS, SOE</td>\n",
       "      <td>80703.0</td>\n",
       "      <td>PELE DO MEMBRO SUPERIOR E DO OMBRO</td>\n",
       "      <td>C446</td>\n",
       "      <td>None</td>\n",
       "      <td>None</td>\n",
       "      <td>None</td>\n",
       "      <td>None</td>\n",
       "      <td>False</td>\n",
       "      <td>HISTOLOGIA DO TUMOR PRIMÁRIO</td>\n",
       "      <td>SEM INFORMAÇÃO</td>\n",
       "      <td>SEM INFORMAÇÃO</td>\n",
       "      <td>99</td>\n",
       "      <td>999</td>\n",
       "      <td>VIVO</td>\n",
       "      <td>None</td>\n",
       "      <td>NaT</td>\n",
       "      <td>2010-07-28</td>\n",
       "      <td>2003-04-01</td>\n",
       "      <td>None</td>\n",
       "      <td>SUDESTE</td>\n",
       "      <td>Câncer de Pele</td>\n",
       "    </tr>\n",
       "    <tr>\n",
       "      <th>4</th>\n",
       "      <td>RCBP CAMPINAS-UNICAMP</td>\n",
       "      <td>MASCULINO</td>\n",
       "      <td>03/07/1934</td>\n",
       "      <td>71</td>\n",
       "      <td>BRANCO</td>\n",
       "      <td>BRASIL</td>\n",
       "      <td>SÃO PAULO</td>\n",
       "      <td>None</td>\n",
       "      <td>SEM INFORMAÇÃO</td>\n",
       "      <td>SOLTEIRO</td>\n",
       "      <td>0.0</td>\n",
       "      <td>SEM INFORMAÇÃO\\t</td>\n",
       "      <td>SÃO PAULO</td>\n",
       "      <td>CAMPINAS</td>\n",
       "      <td>LOCALIZACAO PRIMARIA DESCONHECIDA, SOE</td>\n",
       "      <td>C809</td>\n",
       "      <td>NEOPLASIA MALIGNA</td>\n",
       "      <td>80003.0</td>\n",
       "      <td>LOCALIZACAO PRIMARIA DESCONHECIDA</td>\n",
       "      <td>C80</td>\n",
       "      <td>None</td>\n",
       "      <td>None</td>\n",
       "      <td>None</td>\n",
       "      <td>None</td>\n",
       "      <td>False</td>\n",
       "      <td>SDO</td>\n",
       "      <td>SEM INFORMAÇÃO</td>\n",
       "      <td>SEM INFORMAÇÃO</td>\n",
       "      <td>99 - SEM INFORMAÇÃO</td>\n",
       "      <td>999</td>\n",
       "      <td>MORTO</td>\n",
       "      <td>CÂNCER</td>\n",
       "      <td>2005-10-21</td>\n",
       "      <td>2005-10-21</td>\n",
       "      <td>2005-10-21</td>\n",
       "      <td>None</td>\n",
       "      <td>SUDESTE</td>\n",
       "      <td>Outros</td>\n",
       "    </tr>\n",
       "  </tbody>\n",
       "</table>\n",
       "</div>"
      ],
      "text/plain": [
       "            Nome do RCBP       Sexo Data de Nascimento  Idade        Raca/Cor  \\\n",
       "0  RCBP CAMPINAS-UNICAMP  MASCULINO         16/03/1975     30          BRANCO   \n",
       "1  RCBP CAMPINAS-UNICAMP   FEMININO         24/05/1950     53  SEM INFORMAÇÃO   \n",
       "2  RCBP CAMPINAS-UNICAMP   FEMININO         02/09/1951     51           PARDA   \n",
       "3  RCBP CAMPINAS-UNICAMP   FEMININO         21/11/1929     73  SEM INFORMAÇÃO   \n",
       "4  RCBP CAMPINAS-UNICAMP  MASCULINO         03/07/1934     71          BRANCO   \n",
       "\n",
       "   Nacionalidade Naturalidade Estado   Naturalidade Grau de Instrução  \\\n",
       "0         BRASIL           SÃO PAULO           None    SEM INFORMAÇÃO   \n",
       "1  Não informado       Não informado  Não Informado    SEM INFORMAÇÃO   \n",
       "2         BRASIL           SÃO PAULO           None    SEM INFORMAÇÃO   \n",
       "3  Não informado       Não informado  Não Informado    SEM INFORMAÇÃO   \n",
       "4         BRASIL           SÃO PAULO           None    SEM INFORMAÇÃO   \n",
       "\n",
       "     Estado Civil  Código Profissão  \\\n",
       "0          CASADO             516.0   \n",
       "1  SEM INFORMAÇÃO               0.0   \n",
       "2        SOLTEIRO               0.0   \n",
       "3  SEM INFORMAÇÃO               0.0   \n",
       "4        SOLTEIRO               0.0   \n",
       "\n",
       "                                      Nome Profissão Estado Endereço  \\\n",
       "0  TRABALHADORES NOS SERVIÇOS DE EMBELEZAMENTO E ...       SÃO PAULO   \n",
       "1                                   SEM INFORMAÇÃO\\t       SÃO PAULO   \n",
       "2                                   SEM INFORMAÇÃO\\t       SÃO PAULO   \n",
       "3                                   SEM INFORMAÇÃO\\t       SÃO PAULO   \n",
       "4                                   SEM INFORMAÇÃO\\t       SÃO PAULO   \n",
       "\n",
       "  Cidade Endereço                 Descrição da Topografia  \\\n",
       "0        CAMPINAS                               RETO, SOE   \n",
       "1        CAMPINAS                       COLON DESCENDENTE   \n",
       "2        CAMPINAS                              MAMA , SOE   \n",
       "3        CAMPINAS      PELE DO MEMBRO SUPERIOR E DO OMBRO   \n",
       "4        CAMPINAS  LOCALIZACAO PRIMARIA DESCONHECIDA, SOE   \n",
       "\n",
       "  Código da Topografia              Descrição da Morfologia  \\\n",
       "0                 C209                    NEOPLASIA MALIGNA   \n",
       "1                 C186               ADENOCARCINOMA TUBULAR   \n",
       "2                 C509         CARCINOMA DUCTAL INFILTRANTE   \n",
       "3                 C446  CARCINOMA DE CELULAS ESCAMOSAS, SOE   \n",
       "4                 C809                    NEOPLASIA MALIGNA   \n",
       "\n",
       "   Código da Morfologia                 Descrição da Doenca Código da Doenca  \\\n",
       "0               80003.0                                RETO              C20   \n",
       "1               82113.0                   COLON DESCENDENTE             C186   \n",
       "2               85003.0                          MAMA , SOE             C509   \n",
       "3               80703.0  PELE DO MEMBRO SUPERIOR E DO OMBRO             C446   \n",
       "4               80003.0   LOCALIZACAO PRIMARIA DESCONHECIDA              C80   \n",
       "\n",
       "  Descrição da Doenca Infantil Código da Doenca Infantil  \\\n",
       "0                         None                      None   \n",
       "1                         None                      None   \n",
       "2                         None                      None   \n",
       "3                         None                      None   \n",
       "4                         None                      None   \n",
       "\n",
       "  Descrição da Doenca Adulto Jovem Código da Doenca Adulto Jovem  \\\n",
       "0                             None                          None   \n",
       "1                             None                          None   \n",
       "2                             None                          None   \n",
       "3                             None                          None   \n",
       "4                             None                          None   \n",
       "\n",
       "  Indicador de Caso Raro           Meio de Diagnostico        Extensão  \\\n",
       "0                  False                           SDO       METÁSTASE   \n",
       "1                  False  HISTOLOGIA DO TUMOR PRIMÁRIO  SEM INFORMAÇÃO   \n",
       "2                  False  HISTOLOGIA DO TUMOR PRIMÁRIO  SEM INFORMAÇÃO   \n",
       "3                  False  HISTOLOGIA DO TUMOR PRIMÁRIO  SEM INFORMAÇÃO   \n",
       "4                  False                           SDO  SEM INFORMAÇÃO   \n",
       "\n",
       "     Lateralidade         Estadiamento  TNM Status Vital   Tipo do Obito  \\\n",
       "0  SEM INFORMAÇÃO  99 - SEM INFORMAÇÃO  999        MORTO          CÂNCER   \n",
       "1  SEM INFORMAÇÃO                   99  999        MORTO  SEM INFORMAÇÃO   \n",
       "2  SEM INFORMAÇÃO                   99  999        MORTO          CÂNCER   \n",
       "3  SEM INFORMAÇÃO                   99  999         VIVO            None   \n",
       "4  SEM INFORMAÇÃO  99 - SEM INFORMAÇÃO  999        MORTO          CÂNCER   \n",
       "\n",
       "  Data do Óbito Data de Último Contato Data de Diagnostico  \\\n",
       "0    2005-10-07             2005-10-07          2005-10-07   \n",
       "1    2007-01-30             2007-01-30          2003-07-18   \n",
       "2    2005-07-03             2005-07-03          2003-05-16   \n",
       "3           NaT             2010-07-28          2003-04-01   \n",
       "4    2005-10-21             2005-10-21          2005-10-21   \n",
       "\n",
       "  Metástase à distância   Regiao categoria_doenca  \n",
       "0                  None  SUDESTE           Outros  \n",
       "1                  None  SUDESTE           Outros  \n",
       "2                  None  SUDESTE   Câncer de Mama  \n",
       "3                  None  SUDESTE   Câncer de Pele  \n",
       "4                  None  SUDESTE           Outros  "
      ]
     },
     "execution_count": 38,
     "metadata": {},
     "output_type": "execute_result"
    }
   ],
   "source": [
    "df.head()"
   ]
  },
  {
   "cell_type": "markdown",
   "metadata": {},
   "source": [
    "### Modelagem das séries de regiões"
   ]
  },
  {
   "cell_type": "code",
   "execution_count": 111,
   "metadata": {},
   "outputs": [
    {
     "name": "stderr",
     "output_type": "stream",
     "text": [
      "C:\\Users\\LENOVO\\AppData\\Local\\Temp\\ipykernel_2520\\899817195.py:2: SettingWithCopyWarning: \n",
      "A value is trying to be set on a copy of a slice from a DataFrame.\n",
      "Try using .loc[row_indexer,col_indexer] = value instead\n",
      "\n",
      "See the caveats in the documentation: https://pandas.pydata.org/pandas-docs/stable/user_guide/indexing.html#returning-a-view-versus-a-copy\n",
      "  df_regioes['y'] = 1\n"
     ]
    }
   ],
   "source": [
    "df_regioes = df[['Data de Diagnostico', 'Regiao', 'categoria_doenca']]\n",
    "df_regioes['y'] = 1"
   ]
  },
  {
   "cell_type": "code",
   "execution_count": 40,
   "metadata": {},
   "outputs": [
    {
     "data": {
      "text/plain": [
       "(2273105, 4)"
      ]
     },
     "execution_count": 40,
     "metadata": {},
     "output_type": "execute_result"
    }
   ],
   "source": [
    "df_regioes.shape"
   ]
  },
  {
   "cell_type": "code",
   "execution_count": 41,
   "metadata": {},
   "outputs": [
    {
     "data": {
      "text/html": [
       "<div>\n",
       "<style scoped>\n",
       "    .dataframe tbody tr th:only-of-type {\n",
       "        vertical-align: middle;\n",
       "    }\n",
       "\n",
       "    .dataframe tbody tr th {\n",
       "        vertical-align: top;\n",
       "    }\n",
       "\n",
       "    .dataframe thead th {\n",
       "        text-align: right;\n",
       "    }\n",
       "</style>\n",
       "<table border=\"1\" class=\"dataframe\">\n",
       "  <thead>\n",
       "    <tr style=\"text-align: right;\">\n",
       "      <th></th>\n",
       "      <th>Data de Diagnostico</th>\n",
       "      <th>Regiao</th>\n",
       "      <th>categoria_doenca</th>\n",
       "      <th>y</th>\n",
       "    </tr>\n",
       "  </thead>\n",
       "  <tbody>\n",
       "    <tr>\n",
       "      <th>0</th>\n",
       "      <td>2005-10-07</td>\n",
       "      <td>SUDESTE</td>\n",
       "      <td>Outros</td>\n",
       "      <td>1</td>\n",
       "    </tr>\n",
       "    <tr>\n",
       "      <th>1</th>\n",
       "      <td>2003-07-18</td>\n",
       "      <td>SUDESTE</td>\n",
       "      <td>Outros</td>\n",
       "      <td>1</td>\n",
       "    </tr>\n",
       "    <tr>\n",
       "      <th>2</th>\n",
       "      <td>2003-05-16</td>\n",
       "      <td>SUDESTE</td>\n",
       "      <td>Câncer de Mama</td>\n",
       "      <td>1</td>\n",
       "    </tr>\n",
       "    <tr>\n",
       "      <th>3</th>\n",
       "      <td>2003-04-01</td>\n",
       "      <td>SUDESTE</td>\n",
       "      <td>Câncer de Pele</td>\n",
       "      <td>1</td>\n",
       "    </tr>\n",
       "    <tr>\n",
       "      <th>4</th>\n",
       "      <td>2005-10-21</td>\n",
       "      <td>SUDESTE</td>\n",
       "      <td>Outros</td>\n",
       "      <td>1</td>\n",
       "    </tr>\n",
       "  </tbody>\n",
       "</table>\n",
       "</div>"
      ],
      "text/plain": [
       "  Data de Diagnostico   Regiao categoria_doenca  y\n",
       "0          2005-10-07  SUDESTE           Outros  1\n",
       "1          2003-07-18  SUDESTE           Outros  1\n",
       "2          2003-05-16  SUDESTE   Câncer de Mama  1\n",
       "3          2003-04-01  SUDESTE   Câncer de Pele  1\n",
       "4          2005-10-21  SUDESTE           Outros  1"
      ]
     },
     "execution_count": 41,
     "metadata": {},
     "output_type": "execute_result"
    }
   ],
   "source": [
    "df_regioes.head()"
   ]
  },
  {
   "cell_type": "code",
   "execution_count": 42,
   "metadata": {},
   "outputs": [
    {
     "name": "stdout",
     "output_type": "stream",
     "text": [
      "<class 'pandas.core.frame.DataFrame'>\n",
      "Index: 2273105 entries, 0 to 2273104\n",
      "Data columns (total 4 columns):\n",
      " #   Column               Dtype         \n",
      "---  ------               -----         \n",
      " 0   Data de Diagnostico  datetime64[ns]\n",
      " 1   Regiao               object        \n",
      " 2   categoria_doenca     object        \n",
      " 3   y                    int64         \n",
      "dtypes: datetime64[ns](1), int64(1), object(2)\n",
      "memory usage: 86.7+ MB\n"
     ]
    }
   ],
   "source": [
    "df_regioes.info()"
   ]
  },
  {
   "cell_type": "code",
   "execution_count": 43,
   "metadata": {},
   "outputs": [
    {
     "data": {
      "text/plain": [
       "Data de Diagnostico    88996\n",
       "Regiao                     0\n",
       "categoria_doenca           0\n",
       "y                          0\n",
       "dtype: int64"
      ]
     },
     "execution_count": 43,
     "metadata": {},
     "output_type": "execute_result"
    }
   ],
   "source": [
    "df_regioes.isna().sum()"
   ]
  },
  {
   "cell_type": "code",
   "execution_count": 112,
   "metadata": {},
   "outputs": [
    {
     "name": "stderr",
     "output_type": "stream",
     "text": [
      "C:\\Users\\LENOVO\\AppData\\Local\\Temp\\ipykernel_2520\\2300192166.py:1: SettingWithCopyWarning: \n",
      "A value is trying to be set on a copy of a slice from a DataFrame\n",
      "\n",
      "See the caveats in the documentation: https://pandas.pydata.org/pandas-docs/stable/user_guide/indexing.html#returning-a-view-versus-a-copy\n",
      "  df_regioes.dropna(inplace=True)\n"
     ]
    }
   ],
   "source": [
    "df_regioes.dropna(inplace=True)"
   ]
  },
  {
   "cell_type": "code",
   "execution_count": 113,
   "metadata": {},
   "outputs": [
    {
     "name": "stderr",
     "output_type": "stream",
     "text": [
      "C:\\Users\\LENOVO\\AppData\\Local\\Temp\\ipykernel_2520\\2337041449.py:1: SettingWithCopyWarning: \n",
      "A value is trying to be set on a copy of a slice from a DataFrame.\n",
      "Try using .loc[row_indexer,col_indexer] = value instead\n",
      "\n",
      "See the caveats in the documentation: https://pandas.pydata.org/pandas-docs/stable/user_guide/indexing.html#returning-a-view-versus-a-copy\n",
      "  df_regioes['year_month'] = df_regioes['Data de Diagnostico'].dt.to_period('M')\n"
     ]
    }
   ],
   "source": [
    "df_regioes['year_month'] = df_regioes['Data de Diagnostico'].dt.to_period('M')"
   ]
  },
  {
   "cell_type": "code",
   "execution_count": 51,
   "metadata": {},
   "outputs": [
    {
     "data": {
      "text/html": [
       "<div>\n",
       "<style scoped>\n",
       "    .dataframe tbody tr th:only-of-type {\n",
       "        vertical-align: middle;\n",
       "    }\n",
       "\n",
       "    .dataframe tbody tr th {\n",
       "        vertical-align: top;\n",
       "    }\n",
       "\n",
       "    .dataframe thead th {\n",
       "        text-align: right;\n",
       "    }\n",
       "</style>\n",
       "<table border=\"1\" class=\"dataframe\">\n",
       "  <thead>\n",
       "    <tr style=\"text-align: right;\">\n",
       "      <th></th>\n",
       "      <th>Data de Diagnostico</th>\n",
       "      <th>Regiao</th>\n",
       "      <th>categoria_doenca</th>\n",
       "      <th>y</th>\n",
       "      <th>year_month</th>\n",
       "    </tr>\n",
       "  </thead>\n",
       "  <tbody>\n",
       "    <tr>\n",
       "      <th>0</th>\n",
       "      <td>2005-10-07</td>\n",
       "      <td>SUDESTE</td>\n",
       "      <td>Outros</td>\n",
       "      <td>1</td>\n",
       "      <td>2005-10</td>\n",
       "    </tr>\n",
       "    <tr>\n",
       "      <th>1</th>\n",
       "      <td>2003-07-18</td>\n",
       "      <td>SUDESTE</td>\n",
       "      <td>Outros</td>\n",
       "      <td>1</td>\n",
       "      <td>2003-07</td>\n",
       "    </tr>\n",
       "    <tr>\n",
       "      <th>2</th>\n",
       "      <td>2003-05-16</td>\n",
       "      <td>SUDESTE</td>\n",
       "      <td>Câncer de Mama</td>\n",
       "      <td>1</td>\n",
       "      <td>2003-05</td>\n",
       "    </tr>\n",
       "    <tr>\n",
       "      <th>3</th>\n",
       "      <td>2003-04-01</td>\n",
       "      <td>SUDESTE</td>\n",
       "      <td>Câncer de Pele</td>\n",
       "      <td>1</td>\n",
       "      <td>2003-04</td>\n",
       "    </tr>\n",
       "    <tr>\n",
       "      <th>4</th>\n",
       "      <td>2005-10-21</td>\n",
       "      <td>SUDESTE</td>\n",
       "      <td>Outros</td>\n",
       "      <td>1</td>\n",
       "      <td>2005-10</td>\n",
       "    </tr>\n",
       "  </tbody>\n",
       "</table>\n",
       "</div>"
      ],
      "text/plain": [
       "  Data de Diagnostico   Regiao categoria_doenca  y year_month\n",
       "0          2005-10-07  SUDESTE           Outros  1    2005-10\n",
       "1          2003-07-18  SUDESTE           Outros  1    2003-07\n",
       "2          2003-05-16  SUDESTE   Câncer de Mama  1    2003-05\n",
       "3          2003-04-01  SUDESTE   Câncer de Pele  1    2003-04\n",
       "4          2005-10-21  SUDESTE           Outros  1    2005-10"
      ]
     },
     "execution_count": 51,
     "metadata": {},
     "output_type": "execute_result"
    }
   ],
   "source": [
    "df_regioes.head()"
   ]
  },
  {
   "cell_type": "code",
   "execution_count": 114,
   "metadata": {},
   "outputs": [],
   "source": [
    "df_grouped = df_regioes.groupby(['year_month', 'Regiao', 'categoria_doenca'])['y'].sum().reset_index()"
   ]
  },
  {
   "cell_type": "code",
   "execution_count": 179,
   "metadata": {},
   "outputs": [
    {
     "data": {
      "text/html": [
       "<div>\n",
       "<style scoped>\n",
       "    .dataframe tbody tr th:only-of-type {\n",
       "        vertical-align: middle;\n",
       "    }\n",
       "\n",
       "    .dataframe tbody tr th {\n",
       "        vertical-align: top;\n",
       "    }\n",
       "\n",
       "    .dataframe thead th {\n",
       "        text-align: right;\n",
       "    }\n",
       "</style>\n",
       "<table border=\"1\" class=\"dataframe\">\n",
       "  <thead>\n",
       "    <tr style=\"text-align: right;\">\n",
       "      <th></th>\n",
       "      <th>year_month</th>\n",
       "      <th>Regiao</th>\n",
       "      <th>categoria_doenca</th>\n",
       "      <th>y</th>\n",
       "    </tr>\n",
       "  </thead>\n",
       "  <tbody>\n",
       "    <tr>\n",
       "      <th>0</th>\n",
       "      <td>1990-01</td>\n",
       "      <td>NORDESTE</td>\n",
       "      <td>Câncer de Colo do Útero</td>\n",
       "      <td>20</td>\n",
       "    </tr>\n",
       "    <tr>\n",
       "      <th>1</th>\n",
       "      <td>1990-01</td>\n",
       "      <td>NORDESTE</td>\n",
       "      <td>Câncer de Mama</td>\n",
       "      <td>19</td>\n",
       "    </tr>\n",
       "    <tr>\n",
       "      <th>2</th>\n",
       "      <td>1990-01</td>\n",
       "      <td>NORDESTE</td>\n",
       "      <td>Câncer de Pele</td>\n",
       "      <td>33</td>\n",
       "    </tr>\n",
       "    <tr>\n",
       "      <th>3</th>\n",
       "      <td>1990-01</td>\n",
       "      <td>NORDESTE</td>\n",
       "      <td>Câncer de Próstata</td>\n",
       "      <td>8</td>\n",
       "    </tr>\n",
       "    <tr>\n",
       "      <th>4</th>\n",
       "      <td>1990-01</td>\n",
       "      <td>NORDESTE</td>\n",
       "      <td>Câncer de Pulmão</td>\n",
       "      <td>5</td>\n",
       "    </tr>\n",
       "  </tbody>\n",
       "</table>\n",
       "</div>"
      ],
      "text/plain": [
       "  year_month    Regiao         categoria_doenca   y\n",
       "0    1990-01  NORDESTE  Câncer de Colo do Útero  20\n",
       "1    1990-01  NORDESTE           Câncer de Mama  19\n",
       "2    1990-01  NORDESTE           Câncer de Pele  33\n",
       "3    1990-01  NORDESTE       Câncer de Próstata   8\n",
       "4    1990-01  NORDESTE         Câncer de Pulmão   5"
      ]
     },
     "execution_count": 179,
     "metadata": {},
     "output_type": "execute_result"
    }
   ],
   "source": [
    "df_grouped.head()"
   ]
  },
  {
   "cell_type": "markdown",
   "metadata": {},
   "source": [
    "#### Por estado"
   ]
  },
  {
   "cell_type": "code",
   "execution_count": 135,
   "metadata": {},
   "outputs": [],
   "source": [
    "df_nordeste = df_grouped[df_grouped['Regiao'] == 'NORDESTE'].drop('categoria_doenca', axis=1).groupby('year_month')['y'].sum().reset_index()\n",
    "df_sudeste = df_grouped[df_grouped['Regiao'] == 'SUDESTE'].drop('categoria_doenca', axis=1).groupby('year_month')['y'].sum().reset_index()\n",
    "df_norte = df_grouped[df_grouped['Regiao'] == 'NORTE'].drop('categoria_doenca', axis=1).groupby('year_month')['y'].sum().reset_index()\n",
    "df_centro_oeste = df_grouped[df_grouped['Regiao'] == 'CENTRO-OESTE'].drop('categoria_doenca', axis=1).groupby('year_month')['y'].sum().reset_index()\n",
    "df_sul = df_grouped[df_grouped['Regiao'] == 'SUL'].drop('categoria_doenca', axis=1).groupby('year_month')['y'].sum().reset_index()"
   ]
  },
  {
   "cell_type": "code",
   "execution_count": 136,
   "metadata": {},
   "outputs": [],
   "source": [
    "def verificar_periodo_completo(dataframe, coluna):\n",
    "    data_mais_antiga = dataframe[coluna].min()\n",
    "    data_mais_recente = dataframe[coluna].max()\n",
    "    \n",
    "    intervalo_completo = pd.period_range(start=data_mais_antiga, end=data_mais_recente, freq='M')\n",
    "    \n",
    "    todas_datas_presentes = all(data in dataframe[coluna].values for data in intervalo_completo)\n",
    "    \n",
    "    return data_mais_antiga, data_mais_recente, todas_datas_presentes"
   ]
  },
  {
   "cell_type": "code",
   "execution_count": 137,
   "metadata": {},
   "outputs": [
    {
     "name": "stdout",
     "output_type": "stream",
     "text": [
      "Data mais antiga: 1990-01, Data mais recente: 2018-12, Todas as datas presentes: True\n",
      "Data mais antiga: 1991-01, Data mais recente: 2020-12, Todas as datas presentes: True\n",
      "Data mais antiga: 1996-01, Data mais recente: 2019-12, Todas as datas presentes: True\n",
      "Data mais antiga: 1999-01, Data mais recente: 2018-12, Todas as datas presentes: True\n",
      "Data mais antiga: 1993-01, Data mais recente: 2018-12, Todas as datas presentes: True\n"
     ]
    }
   ],
   "source": [
    "dfs = [df_nordeste, df_sudeste, df_norte, df_centro_oeste, df_sul]\n",
    "\n",
    "for df in dfs:\n",
    "    data_mais_antiga, data_mais_recente, todas_datas_presentes = verificar_periodo_completo(df, 'year_month')\n",
    "    print(f\"Data mais antiga: {data_mais_antiga}, Data mais recente: {data_mais_recente}, Todas as datas presentes: {todas_datas_presentes}\")"
   ]
  },
  {
   "cell_type": "code",
   "execution_count": 138,
   "metadata": {},
   "outputs": [],
   "source": [
    "def recortar_dataframe(dataframe, coluna, data_inicio, data_fim):\n",
    "    data_inicio = pd.Period(data_inicio, freq='M')\n",
    "    data_fim = pd.Period(data_fim, freq='M')\n",
    "    \n",
    "    dataframe_recortado = dataframe[(dataframe[coluna] >= data_inicio) & (dataframe[coluna] <= data_fim)]\n",
    "    \n",
    "    return dataframe_recortado"
   ]
  },
  {
   "cell_type": "code",
   "execution_count": 139,
   "metadata": {},
   "outputs": [],
   "source": [
    "df_nordeste = recortar_dataframe(df_nordeste, 'year_month', '1999-01', '2018-12')\n",
    "df_sudeste = recortar_dataframe(df_sudeste, 'year_month', '1999-01', '2018-12')\n",
    "df_norte = recortar_dataframe(df_norte, 'year_month', '1999-01', '2018-12')\n",
    "df_centro_oeste = recortar_dataframe(df_centro_oeste, 'year_month', '1999-01', '2018-12')\n",
    "df_sul = recortar_dataframe(df_sul, 'year_month', '1999-01', '2018-12')"
   ]
  },
  {
   "cell_type": "code",
   "execution_count": 140,
   "metadata": {},
   "outputs": [
    {
     "name": "stderr",
     "output_type": "stream",
     "text": [
      "C:\\Users\\LENOVO\\AppData\\Local\\Temp\\ipykernel_2520\\3163250056.py:1: SettingWithCopyWarning: \n",
      "A value is trying to be set on a copy of a slice from a DataFrame.\n",
      "Try using .loc[row_indexer,col_indexer] = value instead\n",
      "\n",
      "See the caveats in the documentation: https://pandas.pydata.org/pandas-docs/stable/user_guide/indexing.html#returning-a-view-versus-a-copy\n",
      "  df_nordeste['unique_id'] = 'NORDESTE'\n",
      "C:\\Users\\LENOVO\\AppData\\Local\\Temp\\ipykernel_2520\\3163250056.py:2: SettingWithCopyWarning: \n",
      "A value is trying to be set on a copy of a slice from a DataFrame.\n",
      "Try using .loc[row_indexer,col_indexer] = value instead\n",
      "\n",
      "See the caveats in the documentation: https://pandas.pydata.org/pandas-docs/stable/user_guide/indexing.html#returning-a-view-versus-a-copy\n",
      "  df_sudeste['unique_id'] = 'SUDESTE'\n",
      "C:\\Users\\LENOVO\\AppData\\Local\\Temp\\ipykernel_2520\\3163250056.py:3: SettingWithCopyWarning: \n",
      "A value is trying to be set on a copy of a slice from a DataFrame.\n",
      "Try using .loc[row_indexer,col_indexer] = value instead\n",
      "\n",
      "See the caveats in the documentation: https://pandas.pydata.org/pandas-docs/stable/user_guide/indexing.html#returning-a-view-versus-a-copy\n",
      "  df_norte['unique_id'] = 'NORTE'\n",
      "C:\\Users\\LENOVO\\AppData\\Local\\Temp\\ipykernel_2520\\3163250056.py:5: SettingWithCopyWarning: \n",
      "A value is trying to be set on a copy of a slice from a DataFrame.\n",
      "Try using .loc[row_indexer,col_indexer] = value instead\n",
      "\n",
      "See the caveats in the documentation: https://pandas.pydata.org/pandas-docs/stable/user_guide/indexing.html#returning-a-view-versus-a-copy\n",
      "  df_sul['unique_id'] = 'SUL'\n"
     ]
    }
   ],
   "source": [
    "df_nordeste['unique_id'] = 'NORDESTE'\n",
    "df_sudeste['unique_id'] = 'SUDESTE'\n",
    "df_norte['unique_id'] = 'NORTE'\n",
    "df_centro_oeste['unique_id'] = 'CENTRO-OESTE'\n",
    "df_sul['unique_id'] = 'SUL'"
   ]
  },
  {
   "cell_type": "code",
   "execution_count": 152,
   "metadata": {},
   "outputs": [],
   "source": [
    "def concatenar_datasets(*dataframes):\n",
    "    dataframe_concatenado = pd.concat(dataframes, ignore_index=True)\n",
    "    return dataframe_concatenado\n",
    "\n",
    "serie_regiao = concatenar_datasets(df_nordeste, df_sudeste, df_norte, df_centro_oeste, df_sul)"
   ]
  },
  {
   "cell_type": "code",
   "execution_count": 154,
   "metadata": {},
   "outputs": [
    {
     "data": {
      "text/html": [
       "<div>\n",
       "<style scoped>\n",
       "    .dataframe tbody tr th:only-of-type {\n",
       "        vertical-align: middle;\n",
       "    }\n",
       "\n",
       "    .dataframe tbody tr th {\n",
       "        vertical-align: top;\n",
       "    }\n",
       "\n",
       "    .dataframe thead th {\n",
       "        text-align: right;\n",
       "    }\n",
       "</style>\n",
       "<table border=\"1\" class=\"dataframe\">\n",
       "  <thead>\n",
       "    <tr style=\"text-align: right;\">\n",
       "      <th></th>\n",
       "      <th>year_month</th>\n",
       "      <th>y</th>\n",
       "      <th>unique_id</th>\n",
       "    </tr>\n",
       "  </thead>\n",
       "  <tbody>\n",
       "    <tr>\n",
       "      <th>0</th>\n",
       "      <td>1999-01</td>\n",
       "      <td>1323</td>\n",
       "      <td>NORDESTE</td>\n",
       "    </tr>\n",
       "    <tr>\n",
       "      <th>1</th>\n",
       "      <td>1999-02</td>\n",
       "      <td>1148</td>\n",
       "      <td>NORDESTE</td>\n",
       "    </tr>\n",
       "    <tr>\n",
       "      <th>2</th>\n",
       "      <td>1999-03</td>\n",
       "      <td>1616</td>\n",
       "      <td>NORDESTE</td>\n",
       "    </tr>\n",
       "    <tr>\n",
       "      <th>3</th>\n",
       "      <td>1999-04</td>\n",
       "      <td>1332</td>\n",
       "      <td>NORDESTE</td>\n",
       "    </tr>\n",
       "    <tr>\n",
       "      <th>4</th>\n",
       "      <td>1999-05</td>\n",
       "      <td>1648</td>\n",
       "      <td>NORDESTE</td>\n",
       "    </tr>\n",
       "  </tbody>\n",
       "</table>\n",
       "</div>"
      ],
      "text/plain": [
       "  year_month     y unique_id\n",
       "0    1999-01  1323  NORDESTE\n",
       "1    1999-02  1148  NORDESTE\n",
       "2    1999-03  1616  NORDESTE\n",
       "3    1999-04  1332  NORDESTE\n",
       "4    1999-05  1648  NORDESTE"
      ]
     },
     "execution_count": 154,
     "metadata": {},
     "output_type": "execute_result"
    }
   ],
   "source": [
    "serie_regiao.head()"
   ]
  },
  {
   "cell_type": "markdown",
   "metadata": {},
   "source": [
    "#### Por estado e doença"
   ]
  },
  {
   "cell_type": "code",
   "execution_count": 187,
   "metadata": {},
   "outputs": [],
   "source": [
    "df_nordeste = df_grouped[df_grouped['Regiao'] == 'NORDESTE']\n",
    "df_sudeste = df_grouped[df_grouped['Regiao'] == 'SUDESTE']\n",
    "df_norte = df_grouped[df_grouped['Regiao'] == 'NORTE']\n",
    "df_centro_oeste = df_grouped[df_grouped['Regiao'] == 'CENTRO-OESTE']\n",
    "df_sul = df_grouped[df_grouped['Regiao'] == 'SUL']"
   ]
  },
  {
   "cell_type": "code",
   "execution_count": 188,
   "metadata": {},
   "outputs": [
    {
     "data": {
      "text/html": [
       "<div>\n",
       "<style scoped>\n",
       "    .dataframe tbody tr th:only-of-type {\n",
       "        vertical-align: middle;\n",
       "    }\n",
       "\n",
       "    .dataframe tbody tr th {\n",
       "        vertical-align: top;\n",
       "    }\n",
       "\n",
       "    .dataframe thead th {\n",
       "        text-align: right;\n",
       "    }\n",
       "</style>\n",
       "<table border=\"1\" class=\"dataframe\">\n",
       "  <thead>\n",
       "    <tr style=\"text-align: right;\">\n",
       "      <th></th>\n",
       "      <th>year_month</th>\n",
       "      <th>Regiao</th>\n",
       "      <th>categoria_doenca</th>\n",
       "      <th>y</th>\n",
       "    </tr>\n",
       "  </thead>\n",
       "  <tbody>\n",
       "    <tr>\n",
       "      <th>0</th>\n",
       "      <td>1990-01</td>\n",
       "      <td>NORDESTE</td>\n",
       "      <td>Câncer de Colo do Útero</td>\n",
       "      <td>20</td>\n",
       "    </tr>\n",
       "    <tr>\n",
       "      <th>1</th>\n",
       "      <td>1990-01</td>\n",
       "      <td>NORDESTE</td>\n",
       "      <td>Câncer de Mama</td>\n",
       "      <td>19</td>\n",
       "    </tr>\n",
       "    <tr>\n",
       "      <th>2</th>\n",
       "      <td>1990-01</td>\n",
       "      <td>NORDESTE</td>\n",
       "      <td>Câncer de Pele</td>\n",
       "      <td>33</td>\n",
       "    </tr>\n",
       "    <tr>\n",
       "      <th>3</th>\n",
       "      <td>1990-01</td>\n",
       "      <td>NORDESTE</td>\n",
       "      <td>Câncer de Próstata</td>\n",
       "      <td>8</td>\n",
       "    </tr>\n",
       "    <tr>\n",
       "      <th>4</th>\n",
       "      <td>1990-01</td>\n",
       "      <td>NORDESTE</td>\n",
       "      <td>Câncer de Pulmão</td>\n",
       "      <td>5</td>\n",
       "    </tr>\n",
       "    <tr>\n",
       "      <th>5</th>\n",
       "      <td>1990-01</td>\n",
       "      <td>NORDESTE</td>\n",
       "      <td>Outros</td>\n",
       "      <td>67</td>\n",
       "    </tr>\n",
       "    <tr>\n",
       "      <th>6</th>\n",
       "      <td>1990-02</td>\n",
       "      <td>NORDESTE</td>\n",
       "      <td>Câncer de Colo do Útero</td>\n",
       "      <td>18</td>\n",
       "    </tr>\n",
       "  </tbody>\n",
       "</table>\n",
       "</div>"
      ],
      "text/plain": [
       "  year_month    Regiao         categoria_doenca   y\n",
       "0    1990-01  NORDESTE  Câncer de Colo do Útero  20\n",
       "1    1990-01  NORDESTE           Câncer de Mama  19\n",
       "2    1990-01  NORDESTE           Câncer de Pele  33\n",
       "3    1990-01  NORDESTE       Câncer de Próstata   8\n",
       "4    1990-01  NORDESTE         Câncer de Pulmão   5\n",
       "5    1990-01  NORDESTE                   Outros  67\n",
       "6    1990-02  NORDESTE  Câncer de Colo do Útero  18"
      ]
     },
     "execution_count": 188,
     "metadata": {},
     "output_type": "execute_result"
    }
   ],
   "source": [
    "df_nordeste.head(7)"
   ]
  },
  {
   "cell_type": "markdown",
   "metadata": {},
   "source": [
    "##### Nordeste"
   ]
  },
  {
   "cell_type": "code",
   "execution_count": 189,
   "metadata": {},
   "outputs": [],
   "source": [
    "df_nordeste_mama = df_nordeste[df_nordeste['categoria_doenca'] == 'Câncer de Mama']\n",
    "df_nordeste_prostata = df_nordeste[df_nordeste['categoria_doenca'] == 'Câncer de Próstata']\n",
    "df_nordeste_utero = df_nordeste[df_nordeste['categoria_doenca'] == 'Câncer de Colo do Útero']\n",
    "df_nordeste_pele = df_nordeste[df_nordeste['categoria_doenca'] == 'Câncer de Pele']\n",
    "df_nordeste_pulmao = df_nordeste[df_nordeste['categoria_doenca'] == 'Câncer de Pulmão']\n",
    "df_nordeste_outros = df_nordeste[df_nordeste['categoria_doenca'] == 'Outros']"
   ]
  },
  {
   "cell_type": "code",
   "execution_count": 190,
   "metadata": {},
   "outputs": [
    {
     "data": {
      "text/html": [
       "<div>\n",
       "<style scoped>\n",
       "    .dataframe tbody tr th:only-of-type {\n",
       "        vertical-align: middle;\n",
       "    }\n",
       "\n",
       "    .dataframe tbody tr th {\n",
       "        vertical-align: top;\n",
       "    }\n",
       "\n",
       "    .dataframe thead th {\n",
       "        text-align: right;\n",
       "    }\n",
       "</style>\n",
       "<table border=\"1\" class=\"dataframe\">\n",
       "  <thead>\n",
       "    <tr style=\"text-align: right;\">\n",
       "      <th></th>\n",
       "      <th>year_month</th>\n",
       "      <th>Regiao</th>\n",
       "      <th>categoria_doenca</th>\n",
       "      <th>y</th>\n",
       "    </tr>\n",
       "  </thead>\n",
       "  <tbody>\n",
       "    <tr>\n",
       "      <th>1</th>\n",
       "      <td>1990-01</td>\n",
       "      <td>NORDESTE</td>\n",
       "      <td>Câncer de Mama</td>\n",
       "      <td>19</td>\n",
       "    </tr>\n",
       "    <tr>\n",
       "      <th>7</th>\n",
       "      <td>1990-02</td>\n",
       "      <td>NORDESTE</td>\n",
       "      <td>Câncer de Mama</td>\n",
       "      <td>14</td>\n",
       "    </tr>\n",
       "    <tr>\n",
       "      <th>13</th>\n",
       "      <td>1990-03</td>\n",
       "      <td>NORDESTE</td>\n",
       "      <td>Câncer de Mama</td>\n",
       "      <td>24</td>\n",
       "    </tr>\n",
       "    <tr>\n",
       "      <th>19</th>\n",
       "      <td>1990-04</td>\n",
       "      <td>NORDESTE</td>\n",
       "      <td>Câncer de Mama</td>\n",
       "      <td>24</td>\n",
       "    </tr>\n",
       "    <tr>\n",
       "      <th>25</th>\n",
       "      <td>1990-05</td>\n",
       "      <td>NORDESTE</td>\n",
       "      <td>Câncer de Mama</td>\n",
       "      <td>27</td>\n",
       "    </tr>\n",
       "  </tbody>\n",
       "</table>\n",
       "</div>"
      ],
      "text/plain": [
       "   year_month    Regiao categoria_doenca   y\n",
       "1     1990-01  NORDESTE   Câncer de Mama  19\n",
       "7     1990-02  NORDESTE   Câncer de Mama  14\n",
       "13    1990-03  NORDESTE   Câncer de Mama  24\n",
       "19    1990-04  NORDESTE   Câncer de Mama  24\n",
       "25    1990-05  NORDESTE   Câncer de Mama  27"
      ]
     },
     "execution_count": 190,
     "metadata": {},
     "output_type": "execute_result"
    }
   ],
   "source": [
    "df_nordeste_mama.head()"
   ]
  },
  {
   "cell_type": "code",
   "execution_count": 191,
   "metadata": {},
   "outputs": [
    {
     "name": "stdout",
     "output_type": "stream",
     "text": [
      "Data mais antiga: 1990-01, Data mais recente: 2018-12, Todas as datas presentes: True\n",
      "Data mais antiga: 1990-01, Data mais recente: 2018-12, Todas as datas presentes: True\n",
      "Data mais antiga: 1990-01, Data mais recente: 2018-12, Todas as datas presentes: True\n",
      "Data mais antiga: 1990-01, Data mais recente: 2018-12, Todas as datas presentes: True\n",
      "Data mais antiga: 1990-01, Data mais recente: 2018-12, Todas as datas presentes: True\n",
      "Data mais antiga: 1990-01, Data mais recente: 2018-12, Todas as datas presentes: True\n"
     ]
    }
   ],
   "source": [
    "dfs_nordeste = [df_nordeste_mama, df_nordeste_prostata, df_nordeste_utero, df_nordeste_pele, df_nordeste_pulmao, df_nordeste_outros]\n",
    "\n",
    "for df in dfs_nordeste:\n",
    "    data_mais_antiga, data_mais_recente, todas_datas_presentes = verificar_periodo_completo(df, 'year_month')\n",
    "    print(f\"Data mais antiga: {data_mais_antiga}, Data mais recente: {data_mais_recente}, Todas as datas presentes: {todas_datas_presentes}\")"
   ]
  },
  {
   "cell_type": "code",
   "execution_count": 192,
   "metadata": {},
   "outputs": [],
   "source": [
    "df_nordeste_mama = df_nordeste_mama.drop('Regiao', axis=1)\n",
    "df_nordeste_prostata = df_nordeste_prostata.drop('Regiao', axis=1)\n",
    "df_nordeste_utero = df_nordeste_utero.drop('Regiao', axis=1)\n",
    "df_nordeste_pele = df_nordeste_pele.drop('Regiao', axis=1)\n",
    "df_nordeste_pulmao = df_nordeste_pulmao.drop('Regiao', axis=1)\n",
    "df_nordeste_outros = df_nordeste_outros.drop('Regiao', axis=1)"
   ]
  },
  {
   "cell_type": "code",
   "execution_count": 198,
   "metadata": {},
   "outputs": [
    {
     "data": {
      "text/html": [
       "<div>\n",
       "<style scoped>\n",
       "    .dataframe tbody tr th:only-of-type {\n",
       "        vertical-align: middle;\n",
       "    }\n",
       "\n",
       "    .dataframe tbody tr th {\n",
       "        vertical-align: top;\n",
       "    }\n",
       "\n",
       "    .dataframe thead th {\n",
       "        text-align: right;\n",
       "    }\n",
       "</style>\n",
       "<table border=\"1\" class=\"dataframe\">\n",
       "  <thead>\n",
       "    <tr style=\"text-align: right;\">\n",
       "      <th></th>\n",
       "      <th>year_month</th>\n",
       "      <th>categoria_doenca</th>\n",
       "      <th>y</th>\n",
       "    </tr>\n",
       "  </thead>\n",
       "  <tbody>\n",
       "    <tr>\n",
       "      <th>5</th>\n",
       "      <td>1990-01</td>\n",
       "      <td>Outros</td>\n",
       "      <td>67</td>\n",
       "    </tr>\n",
       "    <tr>\n",
       "      <th>11</th>\n",
       "      <td>1990-02</td>\n",
       "      <td>Outros</td>\n",
       "      <td>87</td>\n",
       "    </tr>\n",
       "    <tr>\n",
       "      <th>17</th>\n",
       "      <td>1990-03</td>\n",
       "      <td>Outros</td>\n",
       "      <td>96</td>\n",
       "    </tr>\n",
       "    <tr>\n",
       "      <th>23</th>\n",
       "      <td>1990-04</td>\n",
       "      <td>Outros</td>\n",
       "      <td>77</td>\n",
       "    </tr>\n",
       "    <tr>\n",
       "      <th>29</th>\n",
       "      <td>1990-05</td>\n",
       "      <td>Outros</td>\n",
       "      <td>79</td>\n",
       "    </tr>\n",
       "  </tbody>\n",
       "</table>\n",
       "</div>"
      ],
      "text/plain": [
       "   year_month categoria_doenca   y\n",
       "5     1990-01           Outros  67\n",
       "11    1990-02           Outros  87\n",
       "17    1990-03           Outros  96\n",
       "23    1990-04           Outros  77\n",
       "29    1990-05           Outros  79"
      ]
     },
     "execution_count": 198,
     "metadata": {},
     "output_type": "execute_result"
    }
   ],
   "source": [
    "df_nordeste_outros.head()"
   ]
  },
  {
   "cell_type": "code",
   "execution_count": 199,
   "metadata": {},
   "outputs": [],
   "source": [
    "serie_nordeste = concatenar_datasets(df_nordeste_mama, df_nordeste_prostata, df_nordeste_utero, df_nordeste_pele, df_nordeste_pulmao, df_nordeste_outros)"
   ]
  },
  {
   "cell_type": "code",
   "execution_count": 200,
   "metadata": {},
   "outputs": [
    {
     "data": {
      "text/html": [
       "<div>\n",
       "<style scoped>\n",
       "    .dataframe tbody tr th:only-of-type {\n",
       "        vertical-align: middle;\n",
       "    }\n",
       "\n",
       "    .dataframe tbody tr th {\n",
       "        vertical-align: top;\n",
       "    }\n",
       "\n",
       "    .dataframe thead th {\n",
       "        text-align: right;\n",
       "    }\n",
       "</style>\n",
       "<table border=\"1\" class=\"dataframe\">\n",
       "  <thead>\n",
       "    <tr style=\"text-align: right;\">\n",
       "      <th></th>\n",
       "      <th>year_month</th>\n",
       "      <th>categoria_doenca</th>\n",
       "      <th>y</th>\n",
       "    </tr>\n",
       "  </thead>\n",
       "  <tbody>\n",
       "    <tr>\n",
       "      <th>0</th>\n",
       "      <td>1990-01</td>\n",
       "      <td>Câncer de Mama</td>\n",
       "      <td>19</td>\n",
       "    </tr>\n",
       "    <tr>\n",
       "      <th>1</th>\n",
       "      <td>1990-02</td>\n",
       "      <td>Câncer de Mama</td>\n",
       "      <td>14</td>\n",
       "    </tr>\n",
       "    <tr>\n",
       "      <th>2</th>\n",
       "      <td>1990-03</td>\n",
       "      <td>Câncer de Mama</td>\n",
       "      <td>24</td>\n",
       "    </tr>\n",
       "    <tr>\n",
       "      <th>3</th>\n",
       "      <td>1990-04</td>\n",
       "      <td>Câncer de Mama</td>\n",
       "      <td>24</td>\n",
       "    </tr>\n",
       "    <tr>\n",
       "      <th>4</th>\n",
       "      <td>1990-05</td>\n",
       "      <td>Câncer de Mama</td>\n",
       "      <td>27</td>\n",
       "    </tr>\n",
       "  </tbody>\n",
       "</table>\n",
       "</div>"
      ],
      "text/plain": [
       "  year_month categoria_doenca   y\n",
       "0    1990-01   Câncer de Mama  19\n",
       "1    1990-02   Câncer de Mama  14\n",
       "2    1990-03   Câncer de Mama  24\n",
       "3    1990-04   Câncer de Mama  24\n",
       "4    1990-05   Câncer de Mama  27"
      ]
     },
     "execution_count": 200,
     "metadata": {},
     "output_type": "execute_result"
    }
   ],
   "source": [
    "serie_nordeste.head()"
   ]
  },
  {
   "cell_type": "markdown",
   "metadata": {},
   "source": [
    "##### Sudeste"
   ]
  },
  {
   "cell_type": "code",
   "execution_count": 204,
   "metadata": {},
   "outputs": [],
   "source": [
    "df_sudeste_mama = df_sudeste[df_sudeste['categoria_doenca'] == 'Câncer de Mama']\n",
    "df_sudeste_prostata = df_sudeste[df_sudeste['categoria_doenca'] == 'Câncer de Próstata']\n",
    "df_sudeste_utero = df_sudeste[df_sudeste['categoria_doenca'] == 'Câncer de Colo do Útero']\n",
    "df_sudeste_pele = df_sudeste[df_sudeste['categoria_doenca'] == 'Câncer de Pele']\n",
    "df_sudeste_pulmao = df_sudeste[df_sudeste['categoria_doenca'] == 'Câncer de Pulmão']\n",
    "df_sudeste_outros = df_sudeste[df_sudeste['categoria_doenca'] == 'Outros']"
   ]
  },
  {
   "cell_type": "code",
   "execution_count": 205,
   "metadata": {},
   "outputs": [
    {
     "data": {
      "text/html": [
       "<div>\n",
       "<style scoped>\n",
       "    .dataframe tbody tr th:only-of-type {\n",
       "        vertical-align: middle;\n",
       "    }\n",
       "\n",
       "    .dataframe tbody tr th {\n",
       "        vertical-align: top;\n",
       "    }\n",
       "\n",
       "    .dataframe thead th {\n",
       "        text-align: right;\n",
       "    }\n",
       "</style>\n",
       "<table border=\"1\" class=\"dataframe\">\n",
       "  <thead>\n",
       "    <tr style=\"text-align: right;\">\n",
       "      <th></th>\n",
       "      <th>year_month</th>\n",
       "      <th>Regiao</th>\n",
       "      <th>categoria_doenca</th>\n",
       "      <th>y</th>\n",
       "    </tr>\n",
       "  </thead>\n",
       "  <tbody>\n",
       "    <tr>\n",
       "      <th>79</th>\n",
       "      <td>1991-01</td>\n",
       "      <td>SUDESTE</td>\n",
       "      <td>Câncer de Mama</td>\n",
       "      <td>20</td>\n",
       "    </tr>\n",
       "    <tr>\n",
       "      <th>91</th>\n",
       "      <td>1991-02</td>\n",
       "      <td>SUDESTE</td>\n",
       "      <td>Câncer de Mama</td>\n",
       "      <td>13</td>\n",
       "    </tr>\n",
       "    <tr>\n",
       "      <th>103</th>\n",
       "      <td>1991-03</td>\n",
       "      <td>SUDESTE</td>\n",
       "      <td>Câncer de Mama</td>\n",
       "      <td>12</td>\n",
       "    </tr>\n",
       "    <tr>\n",
       "      <th>115</th>\n",
       "      <td>1991-04</td>\n",
       "      <td>SUDESTE</td>\n",
       "      <td>Câncer de Mama</td>\n",
       "      <td>14</td>\n",
       "    </tr>\n",
       "    <tr>\n",
       "      <th>127</th>\n",
       "      <td>1991-05</td>\n",
       "      <td>SUDESTE</td>\n",
       "      <td>Câncer de Mama</td>\n",
       "      <td>27</td>\n",
       "    </tr>\n",
       "  </tbody>\n",
       "</table>\n",
       "</div>"
      ],
      "text/plain": [
       "    year_month   Regiao categoria_doenca   y\n",
       "79     1991-01  SUDESTE   Câncer de Mama  20\n",
       "91     1991-02  SUDESTE   Câncer de Mama  13\n",
       "103    1991-03  SUDESTE   Câncer de Mama  12\n",
       "115    1991-04  SUDESTE   Câncer de Mama  14\n",
       "127    1991-05  SUDESTE   Câncer de Mama  27"
      ]
     },
     "execution_count": 205,
     "metadata": {},
     "output_type": "execute_result"
    }
   ],
   "source": [
    "df_sudeste_mama.head()"
   ]
  },
  {
   "cell_type": "code",
   "execution_count": 206,
   "metadata": {},
   "outputs": [
    {
     "name": "stdout",
     "output_type": "stream",
     "text": [
      "Data mais antiga: 1991-01, Data mais recente: 2020-12, Todas as datas presentes: True\n",
      "Data mais antiga: 1991-01, Data mais recente: 2020-12, Todas as datas presentes: False\n",
      "Data mais antiga: 1991-01, Data mais recente: 2020-12, Todas as datas presentes: False\n",
      "Data mais antiga: 1991-01, Data mais recente: 2020-12, Todas as datas presentes: False\n",
      "Data mais antiga: 1991-01, Data mais recente: 2020-08, Todas as datas presentes: False\n",
      "Data mais antiga: 1991-01, Data mais recente: 2020-12, Todas as datas presentes: True\n"
     ]
    }
   ],
   "source": [
    "dfs_sudeste = [df_sudeste_mama, df_sudeste_prostata, df_sudeste_utero, df_sudeste_pele, df_sudeste_pulmao, df_sudeste_outros]\n",
    "\n",
    "for df in dfs_sudeste:\n",
    "    data_mais_antiga, data_mais_recente, todas_datas_presentes = verificar_periodo_completo(df, 'year_month')\n",
    "    print(f\"Data mais antiga: {data_mais_antiga}, Data mais recente: {data_mais_recente}, Todas as datas presentes: {todas_datas_presentes}\")"
   ]
  },
  {
   "cell_type": "code",
   "execution_count": null,
   "metadata": {},
   "outputs": [],
   "source": []
  },
  {
   "cell_type": "code",
   "execution_count": null,
   "metadata": {},
   "outputs": [],
   "source": []
  },
  {
   "cell_type": "code",
   "execution_count": null,
   "metadata": {},
   "outputs": [],
   "source": []
  },
  {
   "cell_type": "code",
   "execution_count": null,
   "metadata": {},
   "outputs": [],
   "source": []
  },
  {
   "cell_type": "markdown",
   "metadata": {},
   "source": [
    "##### Centro-oeste"
   ]
  },
  {
   "cell_type": "code",
   "execution_count": 66,
   "metadata": {},
   "outputs": [],
   "source": [
    "df_centro_oeste_mama = df_centro_oeste[df_centro_oeste['categoria_doenca'] == 'Câncer de Mama']\n",
    "df_centro_oeste_prostata = df_centro_oeste[df_centro_oeste['categoria_doenca'] == 'Câncer de Próstata']\n",
    "df_centro_oeste_utero = df_centro_oeste[df_centro_oeste['categoria_doenca'] == 'Câncer de Colo do Útero']\n",
    "df_centro_oeste_pele = df_centro_oeste[df_centro_oeste['categoria_doenca'] == 'Câncer de Pele']\n",
    "df_centro_oeste_pulmao = df_centro_oeste[df_centro_oeste['categoria_doenca'] == 'Câncer de Pulmão']\n",
    "df_centro_oeste_outros = df_centro_oeste[df_centro_oeste['categoria_doenca'] == 'Outros']"
   ]
  },
  {
   "cell_type": "code",
   "execution_count": 207,
   "metadata": {},
   "outputs": [
    {
     "data": {
      "text/html": [
       "<div>\n",
       "<style scoped>\n",
       "    .dataframe tbody tr th:only-of-type {\n",
       "        vertical-align: middle;\n",
       "    }\n",
       "\n",
       "    .dataframe tbody tr th {\n",
       "        vertical-align: top;\n",
       "    }\n",
       "\n",
       "    .dataframe thead th {\n",
       "        text-align: right;\n",
       "    }\n",
       "</style>\n",
       "<table border=\"1\" class=\"dataframe\">\n",
       "  <thead>\n",
       "    <tr style=\"text-align: right;\">\n",
       "      <th></th>\n",
       "      <th>year_month</th>\n",
       "      <th>Regiao</th>\n",
       "      <th>categoria_doenca</th>\n",
       "      <th>y</th>\n",
       "    </tr>\n",
       "  </thead>\n",
       "  <tbody>\n",
       "    <tr>\n",
       "      <th>1864</th>\n",
       "      <td>1999-01</td>\n",
       "      <td>CENTRO-OESTE</td>\n",
       "      <td>Câncer de Mama</td>\n",
       "      <td>47</td>\n",
       "    </tr>\n",
       "    <tr>\n",
       "      <th>1894</th>\n",
       "      <td>1999-02</td>\n",
       "      <td>CENTRO-OESTE</td>\n",
       "      <td>Câncer de Mama</td>\n",
       "      <td>31</td>\n",
       "    </tr>\n",
       "    <tr>\n",
       "      <th>1924</th>\n",
       "      <td>1999-03</td>\n",
       "      <td>CENTRO-OESTE</td>\n",
       "      <td>Câncer de Mama</td>\n",
       "      <td>41</td>\n",
       "    </tr>\n",
       "    <tr>\n",
       "      <th>1954</th>\n",
       "      <td>1999-04</td>\n",
       "      <td>CENTRO-OESTE</td>\n",
       "      <td>Câncer de Mama</td>\n",
       "      <td>55</td>\n",
       "    </tr>\n",
       "    <tr>\n",
       "      <th>1984</th>\n",
       "      <td>1999-05</td>\n",
       "      <td>CENTRO-OESTE</td>\n",
       "      <td>Câncer de Mama</td>\n",
       "      <td>55</td>\n",
       "    </tr>\n",
       "  </tbody>\n",
       "</table>\n",
       "</div>"
      ],
      "text/plain": [
       "     year_month        Regiao categoria_doenca   y\n",
       "1864    1999-01  CENTRO-OESTE   Câncer de Mama  47\n",
       "1894    1999-02  CENTRO-OESTE   Câncer de Mama  31\n",
       "1924    1999-03  CENTRO-OESTE   Câncer de Mama  41\n",
       "1954    1999-04  CENTRO-OESTE   Câncer de Mama  55\n",
       "1984    1999-05  CENTRO-OESTE   Câncer de Mama  55"
      ]
     },
     "execution_count": 207,
     "metadata": {},
     "output_type": "execute_result"
    }
   ],
   "source": [
    "df_centro_oeste_mama.head()"
   ]
  },
  {
   "cell_type": "code",
   "execution_count": 208,
   "metadata": {},
   "outputs": [
    {
     "name": "stdout",
     "output_type": "stream",
     "text": [
      "Data mais antiga: 1999-01, Data mais recente: 2018-12, Todas as datas presentes: True\n",
      "Data mais antiga: 1999-01, Data mais recente: 2018-12, Todas as datas presentes: True\n",
      "Data mais antiga: 1999-01, Data mais recente: 2018-12, Todas as datas presentes: True\n",
      "Data mais antiga: 1999-01, Data mais recente: 2018-12, Todas as datas presentes: True\n",
      "Data mais antiga: 1999-01, Data mais recente: 2018-12, Todas as datas presentes: True\n",
      "Data mais antiga: 1999-01, Data mais recente: 2018-12, Todas as datas presentes: True\n"
     ]
    }
   ],
   "source": [
    "dfs_centro_oeste = [df_centro_oeste_mama, df_centro_oeste_prostata, df_centro_oeste_utero, df_centro_oeste_pele, df_centro_oeste_pulmao, df_centro_oeste_outros]\n",
    "\n",
    "for df in dfs_centro_oeste:\n",
    "    data_mais_antiga, data_mais_recente, todas_datas_presentes = verificar_periodo_completo(df, 'year_month')\n",
    "    print(f\"Data mais antiga: {data_mais_antiga}, Data mais recente: {data_mais_recente}, Todas as datas presentes: {todas_datas_presentes}\")"
   ]
  },
  {
   "cell_type": "code",
   "execution_count": 209,
   "metadata": {},
   "outputs": [],
   "source": [
    "df_centro_oeste_mama = df_centro_oeste_mama.drop('Regiao', axis=1)\n",
    "df_centro_oeste_prostata = df_centro_oeste_prostata.drop('Regiao', axis=1)\n",
    "df_centro_oeste_utero = df_centro_oeste_utero.drop('Regiao', axis=1)\n",
    "df_centro_oeste_pele = df_centro_oeste_pele.drop('Regiao', axis=1)\n",
    "df_centro_oeste_pulmao = df_centro_oeste_pulmao.drop('Regiao', axis=1)\n",
    "df_centro_oeste_outros = df_centro_oeste_outros.drop('Regiao', axis=1)"
   ]
  },
  {
   "cell_type": "code",
   "execution_count": 215,
   "metadata": {},
   "outputs": [
    {
     "data": {
      "text/html": [
       "<div>\n",
       "<style scoped>\n",
       "    .dataframe tbody tr th:only-of-type {\n",
       "        vertical-align: middle;\n",
       "    }\n",
       "\n",
       "    .dataframe tbody tr th {\n",
       "        vertical-align: top;\n",
       "    }\n",
       "\n",
       "    .dataframe thead th {\n",
       "        text-align: right;\n",
       "    }\n",
       "</style>\n",
       "<table border=\"1\" class=\"dataframe\">\n",
       "  <thead>\n",
       "    <tr style=\"text-align: right;\">\n",
       "      <th></th>\n",
       "      <th>year_month</th>\n",
       "      <th>categoria_doenca</th>\n",
       "      <th>y</th>\n",
       "    </tr>\n",
       "  </thead>\n",
       "  <tbody>\n",
       "    <tr>\n",
       "      <th>1868</th>\n",
       "      <td>1999-01</td>\n",
       "      <td>Outros</td>\n",
       "      <td>363</td>\n",
       "    </tr>\n",
       "    <tr>\n",
       "      <th>1898</th>\n",
       "      <td>1999-02</td>\n",
       "      <td>Outros</td>\n",
       "      <td>160</td>\n",
       "    </tr>\n",
       "    <tr>\n",
       "      <th>1928</th>\n",
       "      <td>1999-03</td>\n",
       "      <td>Outros</td>\n",
       "      <td>229</td>\n",
       "    </tr>\n",
       "    <tr>\n",
       "      <th>1958</th>\n",
       "      <td>1999-04</td>\n",
       "      <td>Outros</td>\n",
       "      <td>179</td>\n",
       "    </tr>\n",
       "    <tr>\n",
       "      <th>1988</th>\n",
       "      <td>1999-05</td>\n",
       "      <td>Outros</td>\n",
       "      <td>207</td>\n",
       "    </tr>\n",
       "  </tbody>\n",
       "</table>\n",
       "</div>"
      ],
      "text/plain": [
       "     year_month categoria_doenca    y\n",
       "1868    1999-01           Outros  363\n",
       "1898    1999-02           Outros  160\n",
       "1928    1999-03           Outros  229\n",
       "1958    1999-04           Outros  179\n",
       "1988    1999-05           Outros  207"
      ]
     },
     "execution_count": 215,
     "metadata": {},
     "output_type": "execute_result"
    }
   ],
   "source": [
    "df_centro_oeste_outros.head()"
   ]
  },
  {
   "cell_type": "code",
   "execution_count": 216,
   "metadata": {},
   "outputs": [],
   "source": [
    "serie_centro_oeste = concatenar_datasets(df_centro_oeste_mama, df_centro_oeste_prostata, df_centro_oeste_utero, df_centro_oeste_pele, df_centro_oeste_pulmao, df_centro_oeste_outros)"
   ]
  },
  {
   "cell_type": "code",
   "execution_count": 217,
   "metadata": {},
   "outputs": [
    {
     "data": {
      "text/html": [
       "<div>\n",
       "<style scoped>\n",
       "    .dataframe tbody tr th:only-of-type {\n",
       "        vertical-align: middle;\n",
       "    }\n",
       "\n",
       "    .dataframe tbody tr th {\n",
       "        vertical-align: top;\n",
       "    }\n",
       "\n",
       "    .dataframe thead th {\n",
       "        text-align: right;\n",
       "    }\n",
       "</style>\n",
       "<table border=\"1\" class=\"dataframe\">\n",
       "  <thead>\n",
       "    <tr style=\"text-align: right;\">\n",
       "      <th></th>\n",
       "      <th>year_month</th>\n",
       "      <th>categoria_doenca</th>\n",
       "      <th>y</th>\n",
       "    </tr>\n",
       "  </thead>\n",
       "  <tbody>\n",
       "    <tr>\n",
       "      <th>0</th>\n",
       "      <td>1999-01</td>\n",
       "      <td>Câncer de Mama</td>\n",
       "      <td>47</td>\n",
       "    </tr>\n",
       "    <tr>\n",
       "      <th>1</th>\n",
       "      <td>1999-02</td>\n",
       "      <td>Câncer de Mama</td>\n",
       "      <td>31</td>\n",
       "    </tr>\n",
       "    <tr>\n",
       "      <th>2</th>\n",
       "      <td>1999-03</td>\n",
       "      <td>Câncer de Mama</td>\n",
       "      <td>41</td>\n",
       "    </tr>\n",
       "    <tr>\n",
       "      <th>3</th>\n",
       "      <td>1999-04</td>\n",
       "      <td>Câncer de Mama</td>\n",
       "      <td>55</td>\n",
       "    </tr>\n",
       "    <tr>\n",
       "      <th>4</th>\n",
       "      <td>1999-05</td>\n",
       "      <td>Câncer de Mama</td>\n",
       "      <td>55</td>\n",
       "    </tr>\n",
       "  </tbody>\n",
       "</table>\n",
       "</div>"
      ],
      "text/plain": [
       "  year_month categoria_doenca   y\n",
       "0    1999-01   Câncer de Mama  47\n",
       "1    1999-02   Câncer de Mama  31\n",
       "2    1999-03   Câncer de Mama  41\n",
       "3    1999-04   Câncer de Mama  55\n",
       "4    1999-05   Câncer de Mama  55"
      ]
     },
     "execution_count": 217,
     "metadata": {},
     "output_type": "execute_result"
    }
   ],
   "source": [
    "serie_centro_oeste.head()"
   ]
  },
  {
   "cell_type": "markdown",
   "metadata": {},
   "source": [
    "##### Sul"
   ]
  },
  {
   "cell_type": "code",
   "execution_count": 218,
   "metadata": {},
   "outputs": [],
   "source": [
    "df_sul_mama = df_sul[df_sul['categoria_doenca'] == 'Câncer de Mama']\n",
    "df_sul_prostata = df_sul[df_sul['categoria_doenca'] == 'Câncer de Próstata']\n",
    "df_sul_utero = df_sul[df_sul['categoria_doenca'] == 'Câncer de Colo do Útero']\n",
    "df_sul_pele = df_sul[df_sul['categoria_doenca'] == 'Câncer de Pele']\n",
    "df_sul_pulmao = df_sul[df_sul['categoria_doenca'] == 'Câncer de Pulmão']\n",
    "df_sul_outros = df_sul[df_sul['categoria_doenca'] == 'Outros']"
   ]
  },
  {
   "cell_type": "code",
   "execution_count": 219,
   "metadata": {},
   "outputs": [
    {
     "data": {
      "text/html": [
       "<div>\n",
       "<style scoped>\n",
       "    .dataframe tbody tr th:only-of-type {\n",
       "        vertical-align: middle;\n",
       "    }\n",
       "\n",
       "    .dataframe tbody tr th {\n",
       "        vertical-align: top;\n",
       "    }\n",
       "\n",
       "    .dataframe thead th {\n",
       "        text-align: right;\n",
       "    }\n",
       "</style>\n",
       "<table border=\"1\" class=\"dataframe\">\n",
       "  <thead>\n",
       "    <tr style=\"text-align: right;\">\n",
       "      <th></th>\n",
       "      <th>year_month</th>\n",
       "      <th>Regiao</th>\n",
       "      <th>categoria_doenca</th>\n",
       "      <th>y</th>\n",
       "    </tr>\n",
       "  </thead>\n",
       "  <tbody>\n",
       "    <tr>\n",
       "      <th>372</th>\n",
       "      <td>1993-01</td>\n",
       "      <td>SUL</td>\n",
       "      <td>Câncer de Mama</td>\n",
       "      <td>27</td>\n",
       "    </tr>\n",
       "    <tr>\n",
       "      <th>390</th>\n",
       "      <td>1993-02</td>\n",
       "      <td>SUL</td>\n",
       "      <td>Câncer de Mama</td>\n",
       "      <td>28</td>\n",
       "    </tr>\n",
       "    <tr>\n",
       "      <th>408</th>\n",
       "      <td>1993-03</td>\n",
       "      <td>SUL</td>\n",
       "      <td>Câncer de Mama</td>\n",
       "      <td>45</td>\n",
       "    </tr>\n",
       "    <tr>\n",
       "      <th>426</th>\n",
       "      <td>1993-04</td>\n",
       "      <td>SUL</td>\n",
       "      <td>Câncer de Mama</td>\n",
       "      <td>41</td>\n",
       "    </tr>\n",
       "    <tr>\n",
       "      <th>444</th>\n",
       "      <td>1993-05</td>\n",
       "      <td>SUL</td>\n",
       "      <td>Câncer de Mama</td>\n",
       "      <td>39</td>\n",
       "    </tr>\n",
       "  </tbody>\n",
       "</table>\n",
       "</div>"
      ],
      "text/plain": [
       "    year_month Regiao categoria_doenca   y\n",
       "372    1993-01    SUL   Câncer de Mama  27\n",
       "390    1993-02    SUL   Câncer de Mama  28\n",
       "408    1993-03    SUL   Câncer de Mama  45\n",
       "426    1993-04    SUL   Câncer de Mama  41\n",
       "444    1993-05    SUL   Câncer de Mama  39"
      ]
     },
     "execution_count": 219,
     "metadata": {},
     "output_type": "execute_result"
    }
   ],
   "source": [
    "df_sul_mama.head()"
   ]
  },
  {
   "cell_type": "code",
   "execution_count": 220,
   "metadata": {},
   "outputs": [
    {
     "name": "stdout",
     "output_type": "stream",
     "text": [
      "Data mais antiga: 1993-01, Data mais recente: 2018-12, Todas as datas presentes: True\n",
      "Data mais antiga: 1993-01, Data mais recente: 2018-12, Todas as datas presentes: True\n",
      "Data mais antiga: 1993-01, Data mais recente: 2018-12, Todas as datas presentes: True\n",
      "Data mais antiga: 1993-01, Data mais recente: 2018-12, Todas as datas presentes: True\n",
      "Data mais antiga: 1993-01, Data mais recente: 2018-12, Todas as datas presentes: True\n",
      "Data mais antiga: 1993-01, Data mais recente: 2018-12, Todas as datas presentes: True\n"
     ]
    }
   ],
   "source": [
    "dfs_sul = [df_sul_mama, df_sul_prostata, df_sul_utero, df_sul_pele, df_sul_pulmao, df_sul_outros]\n",
    "\n",
    "for df in dfs_sul:\n",
    "    data_mais_antiga, data_mais_recente, todas_datas_presentes = verificar_periodo_completo(df, 'year_month')\n",
    "    print(f\"Data mais antiga: {data_mais_antiga}, Data mais recente: {data_mais_recente}, Todas as datas presentes: {todas_datas_presentes}\")"
   ]
  },
  {
   "cell_type": "code",
   "execution_count": 221,
   "metadata": {},
   "outputs": [],
   "source": [
    "df_sul_mama = df_sul_mama.drop('Regiao', axis=1)\n",
    "df_sul_prostata = df_sul_prostata.drop('Regiao', axis=1)\n",
    "df_sul_utero = df_sul_utero.drop('Regiao', axis=1)\n",
    "df_sul_pele = df_sul_pele.drop('Regiao', axis=1)\n",
    "df_sul_pulmao = df_sul_pulmao.drop('Regiao', axis=1)\n",
    "df_sul_outros = df_sul_outros.drop('Regiao', axis=1)"
   ]
  },
  {
   "cell_type": "code",
   "execution_count": 227,
   "metadata": {},
   "outputs": [
    {
     "data": {
      "text/html": [
       "<div>\n",
       "<style scoped>\n",
       "    .dataframe tbody tr th:only-of-type {\n",
       "        vertical-align: middle;\n",
       "    }\n",
       "\n",
       "    .dataframe tbody tr th {\n",
       "        vertical-align: top;\n",
       "    }\n",
       "\n",
       "    .dataframe thead th {\n",
       "        text-align: right;\n",
       "    }\n",
       "</style>\n",
       "<table border=\"1\" class=\"dataframe\">\n",
       "  <thead>\n",
       "    <tr style=\"text-align: right;\">\n",
       "      <th></th>\n",
       "      <th>year_month</th>\n",
       "      <th>categoria_doenca</th>\n",
       "      <th>y</th>\n",
       "    </tr>\n",
       "  </thead>\n",
       "  <tbody>\n",
       "    <tr>\n",
       "      <th>376</th>\n",
       "      <td>1993-01</td>\n",
       "      <td>Outros</td>\n",
       "      <td>194</td>\n",
       "    </tr>\n",
       "    <tr>\n",
       "      <th>394</th>\n",
       "      <td>1993-02</td>\n",
       "      <td>Outros</td>\n",
       "      <td>105</td>\n",
       "    </tr>\n",
       "    <tr>\n",
       "      <th>412</th>\n",
       "      <td>1993-03</td>\n",
       "      <td>Outros</td>\n",
       "      <td>152</td>\n",
       "    </tr>\n",
       "    <tr>\n",
       "      <th>430</th>\n",
       "      <td>1993-04</td>\n",
       "      <td>Outros</td>\n",
       "      <td>138</td>\n",
       "    </tr>\n",
       "    <tr>\n",
       "      <th>448</th>\n",
       "      <td>1993-05</td>\n",
       "      <td>Outros</td>\n",
       "      <td>152</td>\n",
       "    </tr>\n",
       "  </tbody>\n",
       "</table>\n",
       "</div>"
      ],
      "text/plain": [
       "    year_month categoria_doenca    y\n",
       "376    1993-01           Outros  194\n",
       "394    1993-02           Outros  105\n",
       "412    1993-03           Outros  152\n",
       "430    1993-04           Outros  138\n",
       "448    1993-05           Outros  152"
      ]
     },
     "execution_count": 227,
     "metadata": {},
     "output_type": "execute_result"
    }
   ],
   "source": [
    "df_sul_outros.head()"
   ]
  },
  {
   "cell_type": "code",
   "execution_count": 228,
   "metadata": {},
   "outputs": [],
   "source": [
    "serie_sul = concatenar_datasets(df_sul_mama, df_sul_prostata, df_sul_utero, df_sul_pele, df_sul_pulmao, df_sul_outros)"
   ]
  },
  {
   "cell_type": "code",
   "execution_count": 229,
   "metadata": {},
   "outputs": [
    {
     "data": {
      "text/html": [
       "<div>\n",
       "<style scoped>\n",
       "    .dataframe tbody tr th:only-of-type {\n",
       "        vertical-align: middle;\n",
       "    }\n",
       "\n",
       "    .dataframe tbody tr th {\n",
       "        vertical-align: top;\n",
       "    }\n",
       "\n",
       "    .dataframe thead th {\n",
       "        text-align: right;\n",
       "    }\n",
       "</style>\n",
       "<table border=\"1\" class=\"dataframe\">\n",
       "  <thead>\n",
       "    <tr style=\"text-align: right;\">\n",
       "      <th></th>\n",
       "      <th>year_month</th>\n",
       "      <th>categoria_doenca</th>\n",
       "      <th>y</th>\n",
       "    </tr>\n",
       "  </thead>\n",
       "  <tbody>\n",
       "    <tr>\n",
       "      <th>0</th>\n",
       "      <td>1993-01</td>\n",
       "      <td>Câncer de Mama</td>\n",
       "      <td>27</td>\n",
       "    </tr>\n",
       "    <tr>\n",
       "      <th>1</th>\n",
       "      <td>1993-02</td>\n",
       "      <td>Câncer de Mama</td>\n",
       "      <td>28</td>\n",
       "    </tr>\n",
       "    <tr>\n",
       "      <th>2</th>\n",
       "      <td>1993-03</td>\n",
       "      <td>Câncer de Mama</td>\n",
       "      <td>45</td>\n",
       "    </tr>\n",
       "    <tr>\n",
       "      <th>3</th>\n",
       "      <td>1993-04</td>\n",
       "      <td>Câncer de Mama</td>\n",
       "      <td>41</td>\n",
       "    </tr>\n",
       "    <tr>\n",
       "      <th>4</th>\n",
       "      <td>1993-05</td>\n",
       "      <td>Câncer de Mama</td>\n",
       "      <td>39</td>\n",
       "    </tr>\n",
       "  </tbody>\n",
       "</table>\n",
       "</div>"
      ],
      "text/plain": [
       "  year_month categoria_doenca   y\n",
       "0    1993-01   Câncer de Mama  27\n",
       "1    1993-02   Câncer de Mama  28\n",
       "2    1993-03   Câncer de Mama  45\n",
       "3    1993-04   Câncer de Mama  41\n",
       "4    1993-05   Câncer de Mama  39"
      ]
     },
     "execution_count": 229,
     "metadata": {},
     "output_type": "execute_result"
    }
   ],
   "source": [
    "serie_sul.head()"
   ]
  },
  {
   "cell_type": "markdown",
   "metadata": {},
   "source": [
    "##### Norte"
   ]
  },
  {
   "cell_type": "code",
   "execution_count": 230,
   "metadata": {},
   "outputs": [],
   "source": [
    "df_norte_mama = df_norte[df_norte['categoria_doenca'] == 'Câncer de Mama']\n",
    "df_norte_prostata = df_norte[df_norte['categoria_doenca'] == 'Câncer de Próstata']\n",
    "df_norte_utero = df_norte[df_norte['categoria_doenca'] == 'Câncer de Colo do Útero']\n",
    "df_norte_pele = df_norte[df_norte['categoria_doenca'] == 'Câncer de Pele']\n",
    "df_norte_pulmao = df_norte[df_norte['categoria_doenca'] == 'Câncer de Pulmão']\n",
    "df_norte_outros = df_norte[df_norte['categoria_doenca'] == 'Outros']"
   ]
  },
  {
   "cell_type": "code",
   "execution_count": 231,
   "metadata": {},
   "outputs": [
    {
     "data": {
      "text/html": [
       "<div>\n",
       "<style scoped>\n",
       "    .dataframe tbody tr th:only-of-type {\n",
       "        vertical-align: middle;\n",
       "    }\n",
       "\n",
       "    .dataframe tbody tr th {\n",
       "        vertical-align: top;\n",
       "    }\n",
       "\n",
       "    .dataframe thead th {\n",
       "        text-align: right;\n",
       "    }\n",
       "</style>\n",
       "<table border=\"1\" class=\"dataframe\">\n",
       "  <thead>\n",
       "    <tr style=\"text-align: right;\">\n",
       "      <th></th>\n",
       "      <th>year_month</th>\n",
       "      <th>Regiao</th>\n",
       "      <th>categoria_doenca</th>\n",
       "      <th>y</th>\n",
       "    </tr>\n",
       "  </thead>\n",
       "  <tbody>\n",
       "    <tr>\n",
       "      <th>1006</th>\n",
       "      <td>1996-01</td>\n",
       "      <td>NORTE</td>\n",
       "      <td>Câncer de Mama</td>\n",
       "      <td>9</td>\n",
       "    </tr>\n",
       "    <tr>\n",
       "      <th>1030</th>\n",
       "      <td>1996-02</td>\n",
       "      <td>NORTE</td>\n",
       "      <td>Câncer de Mama</td>\n",
       "      <td>11</td>\n",
       "    </tr>\n",
       "    <tr>\n",
       "      <th>1054</th>\n",
       "      <td>1996-03</td>\n",
       "      <td>NORTE</td>\n",
       "      <td>Câncer de Mama</td>\n",
       "      <td>17</td>\n",
       "    </tr>\n",
       "    <tr>\n",
       "      <th>1078</th>\n",
       "      <td>1996-04</td>\n",
       "      <td>NORTE</td>\n",
       "      <td>Câncer de Mama</td>\n",
       "      <td>14</td>\n",
       "    </tr>\n",
       "    <tr>\n",
       "      <th>1102</th>\n",
       "      <td>1996-05</td>\n",
       "      <td>NORTE</td>\n",
       "      <td>Câncer de Mama</td>\n",
       "      <td>6</td>\n",
       "    </tr>\n",
       "  </tbody>\n",
       "</table>\n",
       "</div>"
      ],
      "text/plain": [
       "     year_month Regiao categoria_doenca   y\n",
       "1006    1996-01  NORTE   Câncer de Mama   9\n",
       "1030    1996-02  NORTE   Câncer de Mama  11\n",
       "1054    1996-03  NORTE   Câncer de Mama  17\n",
       "1078    1996-04  NORTE   Câncer de Mama  14\n",
       "1102    1996-05  NORTE   Câncer de Mama   6"
      ]
     },
     "execution_count": 231,
     "metadata": {},
     "output_type": "execute_result"
    }
   ],
   "source": [
    "df_norte_mama.head()"
   ]
  },
  {
   "cell_type": "code",
   "execution_count": 232,
   "metadata": {},
   "outputs": [
    {
     "name": "stdout",
     "output_type": "stream",
     "text": [
      "Data mais antiga: 1996-01, Data mais recente: 2019-12, Todas as datas presentes: True\n",
      "Data mais antiga: 1996-01, Data mais recente: 2019-12, Todas as datas presentes: True\n",
      "Data mais antiga: 1996-01, Data mais recente: 2019-12, Todas as datas presentes: True\n",
      "Data mais antiga: 1996-01, Data mais recente: 2019-12, Todas as datas presentes: True\n",
      "Data mais antiga: 1996-01, Data mais recente: 2019-12, Todas as datas presentes: True\n",
      "Data mais antiga: 1996-01, Data mais recente: 2019-12, Todas as datas presentes: True\n"
     ]
    }
   ],
   "source": [
    "dfs_norte = [df_norte_mama, df_norte_prostata, df_norte_utero, df_norte_pele, df_norte_pulmao, df_norte_outros]\n",
    "\n",
    "for df in dfs_norte:\n",
    "    data_mais_antiga, data_mais_recente, todas_datas_presentes = verificar_periodo_completo(df, 'year_month')\n",
    "    print(f\"Data mais antiga: {data_mais_antiga}, Data mais recente: {data_mais_recente}, Todas as datas presentes: {todas_datas_presentes}\")"
   ]
  },
  {
   "cell_type": "code",
   "execution_count": 233,
   "metadata": {},
   "outputs": [],
   "source": [
    "df_norte_mama = df_norte_mama.drop('Regiao', axis=1)\n",
    "df_norte_prostata = df_norte_prostata.drop('Regiao', axis=1)\n",
    "df_norte_utero = df_norte_utero.drop('Regiao', axis=1)\n",
    "df_norte_pele = df_norte_pele.drop('Regiao', axis=1)\n",
    "df_norte_pulmao = df_norte_pulmao.drop('Regiao', axis=1)\n",
    "df_norte_outros = df_norte_outros.drop('Regiao', axis=1)"
   ]
  },
  {
   "cell_type": "code",
   "execution_count": 239,
   "metadata": {},
   "outputs": [
    {
     "data": {
      "text/html": [
       "<div>\n",
       "<style scoped>\n",
       "    .dataframe tbody tr th:only-of-type {\n",
       "        vertical-align: middle;\n",
       "    }\n",
       "\n",
       "    .dataframe tbody tr th {\n",
       "        vertical-align: top;\n",
       "    }\n",
       "\n",
       "    .dataframe thead th {\n",
       "        text-align: right;\n",
       "    }\n",
       "</style>\n",
       "<table border=\"1\" class=\"dataframe\">\n",
       "  <thead>\n",
       "    <tr style=\"text-align: right;\">\n",
       "      <th></th>\n",
       "      <th>year_month</th>\n",
       "      <th>categoria_doenca</th>\n",
       "      <th>y</th>\n",
       "    </tr>\n",
       "  </thead>\n",
       "  <tbody>\n",
       "    <tr>\n",
       "      <th>1010</th>\n",
       "      <td>1996-01</td>\n",
       "      <td>Outros</td>\n",
       "      <td>87</td>\n",
       "    </tr>\n",
       "    <tr>\n",
       "      <th>1034</th>\n",
       "      <td>1996-02</td>\n",
       "      <td>Outros</td>\n",
       "      <td>70</td>\n",
       "    </tr>\n",
       "    <tr>\n",
       "      <th>1058</th>\n",
       "      <td>1996-03</td>\n",
       "      <td>Outros</td>\n",
       "      <td>83</td>\n",
       "    </tr>\n",
       "    <tr>\n",
       "      <th>1082</th>\n",
       "      <td>1996-04</td>\n",
       "      <td>Outros</td>\n",
       "      <td>79</td>\n",
       "    </tr>\n",
       "    <tr>\n",
       "      <th>1106</th>\n",
       "      <td>1996-05</td>\n",
       "      <td>Outros</td>\n",
       "      <td>65</td>\n",
       "    </tr>\n",
       "  </tbody>\n",
       "</table>\n",
       "</div>"
      ],
      "text/plain": [
       "     year_month categoria_doenca   y\n",
       "1010    1996-01           Outros  87\n",
       "1034    1996-02           Outros  70\n",
       "1058    1996-03           Outros  83\n",
       "1082    1996-04           Outros  79\n",
       "1106    1996-05           Outros  65"
      ]
     },
     "execution_count": 239,
     "metadata": {},
     "output_type": "execute_result"
    }
   ],
   "source": [
    "df_norte_outros.head()"
   ]
  },
  {
   "cell_type": "code",
   "execution_count": 240,
   "metadata": {},
   "outputs": [],
   "source": [
    "serie_norte = concatenar_datasets(df_norte_mama, df_norte_prostata, df_norte_utero, df_norte_pele, df_norte_pulmao, df_norte_outros)"
   ]
  },
  {
   "cell_type": "code",
   "execution_count": 241,
   "metadata": {},
   "outputs": [
    {
     "data": {
      "text/html": [
       "<div>\n",
       "<style scoped>\n",
       "    .dataframe tbody tr th:only-of-type {\n",
       "        vertical-align: middle;\n",
       "    }\n",
       "\n",
       "    .dataframe tbody tr th {\n",
       "        vertical-align: top;\n",
       "    }\n",
       "\n",
       "    .dataframe thead th {\n",
       "        text-align: right;\n",
       "    }\n",
       "</style>\n",
       "<table border=\"1\" class=\"dataframe\">\n",
       "  <thead>\n",
       "    <tr style=\"text-align: right;\">\n",
       "      <th></th>\n",
       "      <th>year_month</th>\n",
       "      <th>categoria_doenca</th>\n",
       "      <th>y</th>\n",
       "    </tr>\n",
       "  </thead>\n",
       "  <tbody>\n",
       "    <tr>\n",
       "      <th>0</th>\n",
       "      <td>1996-01</td>\n",
       "      <td>Câncer de Mama</td>\n",
       "      <td>9</td>\n",
       "    </tr>\n",
       "    <tr>\n",
       "      <th>1</th>\n",
       "      <td>1996-02</td>\n",
       "      <td>Câncer de Mama</td>\n",
       "      <td>11</td>\n",
       "    </tr>\n",
       "    <tr>\n",
       "      <th>2</th>\n",
       "      <td>1996-03</td>\n",
       "      <td>Câncer de Mama</td>\n",
       "      <td>17</td>\n",
       "    </tr>\n",
       "    <tr>\n",
       "      <th>3</th>\n",
       "      <td>1996-04</td>\n",
       "      <td>Câncer de Mama</td>\n",
       "      <td>14</td>\n",
       "    </tr>\n",
       "    <tr>\n",
       "      <th>4</th>\n",
       "      <td>1996-05</td>\n",
       "      <td>Câncer de Mama</td>\n",
       "      <td>6</td>\n",
       "    </tr>\n",
       "  </tbody>\n",
       "</table>\n",
       "</div>"
      ],
      "text/plain": [
       "  year_month categoria_doenca   y\n",
       "0    1996-01   Câncer de Mama   9\n",
       "1    1996-02   Câncer de Mama  11\n",
       "2    1996-03   Câncer de Mama  17\n",
       "3    1996-04   Câncer de Mama  14\n",
       "4    1996-05   Câncer de Mama   6"
      ]
     },
     "execution_count": 241,
     "metadata": {},
     "output_type": "execute_result"
    }
   ],
   "source": [
    "serie_norte.head()"
   ]
  }
 ],
 "metadata": {
  "kernelspec": {
   "display_name": "Python 3",
   "language": "python",
   "name": "python3"
  },
  "language_info": {
   "codemirror_mode": {
    "name": "ipython",
    "version": 3
   },
   "file_extension": ".py",
   "mimetype": "text/x-python",
   "name": "python",
   "nbconvert_exporter": "python",
   "pygments_lexer": "ipython3",
   "version": "3.10.5"
  }
 },
 "nbformat": 4,
 "nbformat_minor": 2
}
