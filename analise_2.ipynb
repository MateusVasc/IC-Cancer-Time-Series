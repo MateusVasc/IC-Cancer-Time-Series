{
 "cells": [
  {
   "cell_type": "code",
   "execution_count": 3,
   "metadata": {},
   "outputs": [
    {
     "name": "stderr",
     "output_type": "stream",
     "text": [
      "C:\\Users\\micha\\AppData\\Local\\Temp\\ipykernel_2028\\905386055.py:3: DtypeWarning: Columns (3,6,7,8,9,10,13,14,23,24,25,27,28,29,30,31,32,33,34,35,36) have mixed types. Specify dtype option on import or set low_memory=False.\n",
      "  df = pd.read_csv(path, index_col = \"Código do Paciente\", sep=';')\n"
     ]
    }
   ],
   "source": [
    "import pandas as pd\n",
    "path = r\"C:\\Users\\micha\\Desktop\\IC\\NAO_IDENT_null_1988-2020_2006_2012_102142.csv\"\n",
    "df = pd.read_csv(path, index_col = \"Código do Paciente\", sep=';')\n"
   ]
  },
  {
   "cell_type": "code",
   "execution_count": 9,
   "metadata": {},
   "outputs": [],
   "source": [
    "for column in df.columns:\n",
    "    if df[column].isnull().mean()*100 > 60:\n",
    "        df.drop(column, axis=1, inplace=True)"
   ]
  },
  {
   "cell_type": "code",
   "execution_count": 10,
   "metadata": {},
   "outputs": [
    {
     "name": "stdout",
     "output_type": "stream",
     "text": [
      "<class 'pandas.core.frame.DataFrame'>\n",
      "Index: 850405 entries, nan to nan\n",
      "Data columns (total 25 columns):\n",
      " #   Column                        Non-Null Count   Dtype  \n",
      "---  ------                        --------------   -----  \n",
      " 0   Nome do RCBP                  850405 non-null  object \n",
      " 1   Sexo                          850405 non-null  object \n",
      " 2   Data de Nascimento            473151 non-null  object \n",
      " 3   Idade                         800304 non-null  float64\n",
      " 4   Raca/Cor                      850405 non-null  object \n",
      " 5   Nacionalidade                 473575 non-null  object \n",
      " 6   Naturalidade Estado           474732 non-null  object \n",
      " 7   Grau de Instrução             478194 non-null  object \n",
      " 8   Estado Civil                  475358 non-null  object \n",
      " 9   Código Profissão              788193 non-null  float64\n",
      " 10  Nome Profissão                788193 non-null  object \n",
      " 11  Estado Endereço               813442 non-null  object \n",
      " 12  Cidade Endereço               813776 non-null  object \n",
      " 13  Descrição da Topografia       850405 non-null  object \n",
      " 14  Código da Topografia          850405 non-null  object \n",
      " 15  Descrição da Morfologia       850405 non-null  object \n",
      " 16  Código da Morfologia          850405 non-null  int64  \n",
      " 17  Descrição da Doenca           850405 non-null  object \n",
      " 18  Código da Doenca              850405 non-null  object \n",
      " 19  Descrição da Doenca Infantil  345766 non-null  object \n",
      " 20  Código da Doenca Infantil     345766 non-null  object \n",
      " 21  Indicador de Caso Raro        488637 non-null  object \n",
      " 22  Meio de Diagnostico           850405 non-null  object \n",
      " 23  Extensão                      530596 non-null  object \n",
      " 24  Data de Diagnostico           813776 non-null  object \n",
      "dtypes: float64(2), int64(1), object(22)\n",
      "memory usage: 168.7+ MB\n"
     ]
    }
   ],
   "source": [
    "df.info()"
   ]
  }
 ],
 "metadata": {
  "kernelspec": {
   "display_name": "Python 3",
   "language": "python",
   "name": "python3"
  },
  "language_info": {
   "codemirror_mode": {
    "name": "ipython",
    "version": 3
   },
   "file_extension": ".py",
   "mimetype": "text/x-python",
   "name": "python",
   "nbconvert_exporter": "python",
   "pygments_lexer": "ipython3",
   "version": "3.11.5"
  }
 },
 "nbformat": 4,
 "nbformat_minor": 2
}
